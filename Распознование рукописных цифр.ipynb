{
 "cells": [
  {
   "cell_type": "markdown",
   "metadata": {},
   "source": [
    "## Подготовка данных"
   ]
  },
  {
   "cell_type": "code",
   "execution_count": 3,
   "metadata": {},
   "outputs": [],
   "source": [
    "from tensorflow.keras.datasets import mnist # Загрузка библиотеки с базой данных mnist\n",
    "from tensorflow.keras.models import Sequential # Загружаем библиотеку создания молдели Sequential\n",
    "from tensorflow.keras.layers import Dense # Загружаем полносвязный слой\n",
    "from tensorflow.keras.optimizers import Adam # Загружаем оптимизатор Adam\n",
    "from tensorflow.keras import utils # Загружаем Утилиты to_categorical\n",
    "from tensorflow.keras.preprocessing import image # для отрисовки изображения\n",
    "import numpy as np # подключаем библиотеку numpy\n",
    "import pylab # Модуль для построения графиков\n",
    "from mpl_toolkits.mplot3d import Axes3D # Модуль для трехмерной графики\n",
    "import matplotlib.pyplot as plt # отрисовка изображении \n",
    "from PIL import Image # Отрисовка изображении\n",
    "# Отрисовать изображение в ноутбуке а не в консоль или фаил\n",
    "%matplotlib inline"
   ]
  },
  {
   "cell_type": "code",
   "execution_count": 4,
   "metadata": {},
   "outputs": [
    {
     "name": "stdout",
     "output_type": "stream",
     "text": [
      "Downloading data from https://storage.googleapis.com/tensorflow/tf-keras-datasets/mnist.npz\n",
      "11490434/11490434 [==============================] - 1s 0us/step\n"
     ]
    }
   ],
   "source": [
    "(x_train_org, y_train_org), (x_test_org, y_test_org) = mnist.load_data() # Загрузка данных mnist"
   ]
  },
  {
   "cell_type": "code",
   "execution_count": 5,
   "metadata": {},
   "outputs": [
    {
     "data": {
      "text/plain": [
       "(28, 28)"
      ]
     },
     "execution_count": 5,
     "metadata": {},
     "output_type": "execute_result"
    }
   ],
   "source": [
    "x_train_org[0].shape"
   ]
  },
  {
   "cell_type": "code",
   "execution_count": 7,
   "metadata": {},
   "outputs": [
    {
     "data": {
      "image/png": "[encoded data removed]",
      "text/plain": [
       "<Figure size 432x288 with 1 Axes>"
      ]
     },
     "metadata": {
      "needs_background": "light"
     },
     "output_type": "display_data"
    }
   ],
   "source": [
    "n = 18 # Номер картинки\n",
    "plt.imshow(Image.fromarray(x_train_org[n]).convert('RGB')) # Отрисовка картинки\n",
    "plt.show( ) # Вывод картинки"
   ]
  },
  {
   "cell_type": "code",
   "execution_count": 8,
   "metadata": {},
   "outputs": [
    {
     "data": {
      "text/plain": [
       "6"
      ]
     },
     "execution_count": 8,
     "metadata": {},
     "output_type": "execute_result"
    }
   ],
   "source": [
    "y_train_org[n] # Выводим правильный записанный в обучающую выборку ответ"
   ]
  },
  {
   "cell_type": "code",
   "execution_count": 9,
   "metadata": {},
   "outputs": [
    {
     "name": "stdout",
     "output_type": "stream",
     "text": [
      "(60000, 28, 28)\n",
      "(60000, 784)\n"
     ]
    }
   ],
   "source": [
    "# Меняем формат выходных картинок с 28 х 28 на 784 х 1\n",
    "x_train = x_train_org.reshape(60000, 784)\n",
    "x_test = x_test_org.reshape(10000, 784)\n",
    "print(x_train_org.shape)\n",
    "print(x_train.shape)"
   ]
  },
  {
   "cell_type": "code",
   "execution_count": 10,
   "metadata": {},
   "outputs": [],
   "source": [
    "# Нормализуем входные картинки\n",
    "x_train = x_train.astype('float32') # преобразуем x train (тренировочную выборку) в тип float (цифры с плавающей точкой)\n",
    "x_train = x_train / 255 # приводим к значению от 0 до 1\n",
    "x_test = x_test.astype('float32') # преобразуем x test (тестовую выборку ) в тип float (цифры с плавающей точкой)\n",
    "x_test = x_test / 255 # приводим к значению в диапазоне от 0 до 1"
   ]
  },
  {
   "cell_type": "code",
   "execution_count": 11,
   "metadata": {},
   "outputs": [
    {
     "data": {
      "text/plain": [
       "5"
      ]
     },
     "execution_count": 11,
     "metadata": {},
     "output_type": "execute_result"
    }
   ],
   "source": [
    "y_train_org[0]"
   ]
  }
 ],
 "metadata": {
  "kernelspec": {
   "display_name": "Python 3",
   "language": "python",
   "name": "python3"
  },
  "language_info": {
   "codemirror_mode": {
    "name": "ipython",
    "version": 3
   },
   "file_extension": ".py",
   "mimetype": "text/x-python",
   "name": "python",
   "nbconvert_exporter": "python",
   "pygments_lexer": "ipython3",
   "version": "3.10.2"
  }
 },
 "nbformat": 4,
 "nbformat_minor": 2
}
