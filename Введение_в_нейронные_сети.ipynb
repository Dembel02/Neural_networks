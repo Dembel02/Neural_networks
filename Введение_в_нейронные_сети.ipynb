{
 "cells": [
  {
   "cell_type": "markdown",
   "metadata": {
    "id": "jjqH_JaURnnK"
   },
   "source": [
    "# Создание простой нейронной сети"
   ]
  },
  {
   "cell_type": "code",
   "execution_count": 1,
   "metadata": {
    "id": "hBMkkgdRRgZd"
   },
   "outputs": [],
   "source": [
    "from tensorflow.keras.datasets import mnist #Библиотека с базой Mnist\n",
    "from tensorflow.keras.models import Sequential # Подлючаем класс создания модели Sequential\n",
    "from tensorflow.keras.layers import Dense # Подключаем класс Dense - полносвязный слой\n",
    "from tensorflow.keras.optimizers import Adam # Подключаем оптимизатор Adam\n",
    "from tensorflow.keras import utils #Утилиты для to_categorical\n",
    "from tensorflow.keras.preprocessing import image #Для отрисовки изображения\n",
    "import numpy as np # Подключаем библиотеку numpy\n",
    "import pylab # Модуль для построения графиков\n",
    "from mpl_toolkits.mplot3d import Axes3D # Модуль для трехмерной графики\n",
    "# from google.colab import files #Для загрузки своей картинки\n",
    "import matplotlib.pyplot as plt #Отрисовка изображений\n",
    "from PIL import Image #Отрисовка изображений\n",
    "#Отрисовывать изображения в ноутбуке, а не в консоль или файл\n",
    "%matplotlib inline"
   ]
  },
  {
   "cell_type": "code",
   "execution_count": 2,
   "metadata": {
    "id": "DdB70L9oTpaX"
   },
   "outputs": [
    {
     "name": "stderr",
     "output_type": "stream",
     "text": [
      "C:\\Projects\\env\\Lib\\site-packages\\keras\\src\\layers\\core\\dense.py:87: UserWarning: Do not pass an `input_shape`/`input_dim` argument to a layer. When using Sequential models, prefer using an `Input(shape)` object as the first layer in the model instead.\n",
      "  super().__init__(activity_regularizer=activity_regularizer, **kwargs)\n"
     ]
    }
   ],
   "source": [
    "model = Sequential() # Создаем пустую модель нейронной сети\n",
    "model.add(Dense(2, input_dim = 2, use_bias=False, name='my_layer')) # Добавляем полносвязный слой с 2мя нейронами (указываем, что на вход принимаем вектор из двух элементв) и отключаем использование нейрона смещения\n",
    "model.add(Dense(1, use_bias=False)) # Добавляем полносвязный слой с 1 нейроном (выходной слой нашей модели), здесь уже не требуется указывать размерность входных данных, и также отключаем использование нейрона смещения"
   ]
  },
  {
   "cell_type": "code",
   "execution_count": 3,
   "metadata": {
    "colab": {
     "base_uri": "https://localhost:8080/",
     "height": 221
    },
    "id": "C1BPKfEVU5k-",
    "outputId": "4fa8d258-b1a5-491c-9a27-33be59f15fd2"
   },
   "outputs": [
    {
     "data": {
      "text/html": [
       "<pre style=\"white-space:pre;overflow-x:auto;line-height:normal;font-family:Menlo,'DejaVu Sans Mono',consolas,'Courier New',monospace\"><span style=\"font-weight: bold\">Model: \"sequential\"</span>\n",
       "</pre>\n"
      ],
      "text/plain": [
       "\u001b[1mModel: \"sequential\"\u001b[0m\n"
      ]
     },
     "metadata": {},
     "output_type": "display_data"
    },
    {
     "data": {
      "text/html": [
       "<pre style=\"white-space:pre;overflow-x:auto;line-height:normal;font-family:Menlo,'DejaVu Sans Mono',consolas,'Courier New',monospace\">┏━━━━━━━━━━━━━━━━━━━━━━━━━━━━━━━━━━━━━━┳━━━━━━━━━━━━━━━━━━━━━━━━━━━━━┳━━━━━━━━━━━━━━━━━┓\n",
       "┃<span style=\"font-weight: bold\"> Layer (type)                         </span>┃<span style=\"font-weight: bold\"> Output Shape                </span>┃<span style=\"font-weight: bold\">         Param # </span>┃\n",
       "┡━━━━━━━━━━━━━━━━━━━━━━━━━━━━━━━━━━━━━━╇━━━━━━━━━━━━━━━━━━━━━━━━━━━━━╇━━━━━━━━━━━━━━━━━┩\n",
       "│ my_layer (<span style=\"color: #0087ff; text-decoration-color: #0087ff\">Dense</span>)                     │ (<span style=\"color: #00d7ff; text-decoration-color: #00d7ff\">None</span>, <span style=\"color: #00af00; text-decoration-color: #00af00\">2</span>)                   │               <span style=\"color: #00af00; text-decoration-color: #00af00\">4</span> │\n",
       "├──────────────────────────────────────┼─────────────────────────────┼─────────────────┤\n",
       "│ dense (<span style=\"color: #0087ff; text-decoration-color: #0087ff\">Dense</span>)                        │ (<span style=\"color: #00d7ff; text-decoration-color: #00d7ff\">None</span>, <span style=\"color: #00af00; text-decoration-color: #00af00\">1</span>)                   │               <span style=\"color: #00af00; text-decoration-color: #00af00\">2</span> │\n",
       "└──────────────────────────────────────┴─────────────────────────────┴─────────────────┘\n",
       "</pre>\n"
      ],
      "text/plain": [
       "┏━━━━━━━━━━━━━━━━━━━━━━━━━━━━━━━━━━━━━━┳━━━━━━━━━━━━━━━━━━━━━━━━━━━━━┳━━━━━━━━━━━━━━━━━┓\n",
       "┃\u001b[1m \u001b[0m\u001b[1mLayer (type)                        \u001b[0m\u001b[1m \u001b[0m┃\u001b[1m \u001b[0m\u001b[1mOutput Shape               \u001b[0m\u001b[1m \u001b[0m┃\u001b[1m \u001b[0m\u001b[1m        Param #\u001b[0m\u001b[1m \u001b[0m┃\n",
       "┡━━━━━━━━━━━━━━━━━━━━━━━━━━━━━━━━━━━━━━╇━━━━━━━━━━━━━━━━━━━━━━━━━━━━━╇━━━━━━━━━━━━━━━━━┩\n",
       "│ my_layer (\u001b[38;5;33mDense\u001b[0m)                     │ (\u001b[38;5;45mNone\u001b[0m, \u001b[38;5;34m2\u001b[0m)                   │               \u001b[38;5;34m4\u001b[0m │\n",
       "├──────────────────────────────────────┼─────────────────────────────┼─────────────────┤\n",
       "│ dense (\u001b[38;5;33mDense\u001b[0m)                        │ (\u001b[38;5;45mNone\u001b[0m, \u001b[38;5;34m1\u001b[0m)                   │               \u001b[38;5;34m2\u001b[0m │\n",
       "└──────────────────────────────────────┴─────────────────────────────┴─────────────────┘\n"
      ]
     },
     "metadata": {},
     "output_type": "display_data"
    },
    {
     "data": {
      "text/html": [
       "<pre style=\"white-space:pre;overflow-x:auto;line-height:normal;font-family:Menlo,'DejaVu Sans Mono',consolas,'Courier New',monospace\"><span style=\"font-weight: bold\"> Total params: </span><span style=\"color: #00af00; text-decoration-color: #00af00\">6</span> (24.00 B)\n",
       "</pre>\n"
      ],
      "text/plain": [
       "\u001b[1m Total params: \u001b[0m\u001b[38;5;34m6\u001b[0m (24.00 B)\n"
      ]
     },
     "metadata": {},
     "output_type": "display_data"
    },
    {
     "data": {
      "text/html": [
       "<pre style=\"white-space:pre;overflow-x:auto;line-height:normal;font-family:Menlo,'DejaVu Sans Mono',consolas,'Courier New',monospace\"><span style=\"font-weight: bold\"> Trainable params: </span><span style=\"color: #00af00; text-decoration-color: #00af00\">6</span> (24.00 B)\n",
       "</pre>\n"
      ],
      "text/plain": [
       "\u001b[1m Trainable params: \u001b[0m\u001b[38;5;34m6\u001b[0m (24.00 B)\n"
      ]
     },
     "metadata": {},
     "output_type": "display_data"
    },
    {
     "data": {
      "text/html": [
       "<pre style=\"white-space:pre;overflow-x:auto;line-height:normal;font-family:Menlo,'DejaVu Sans Mono',consolas,'Courier New',monospace\"><span style=\"font-weight: bold\"> Non-trainable params: </span><span style=\"color: #00af00; text-decoration-color: #00af00\">0</span> (0.00 B)\n",
       "</pre>\n"
      ],
      "text/plain": [
       "\u001b[1m Non-trainable params: \u001b[0m\u001b[38;5;34m0\u001b[0m (0.00 B)\n"
      ]
     },
     "metadata": {},
     "output_type": "display_data"
    }
   ],
   "source": [
    "model.summary() # Отобразим данные созданной модели"
   ]
  },
  {
   "cell_type": "code",
   "execution_count": 4,
   "metadata": {
    "colab": {
     "base_uri": "https://localhost:8080/",
     "height": 68
    },
    "id": "3qmopcttVC9A",
    "outputId": "b01972b6-1c92-44b4-d13e-d059721e885a"
   },
   "outputs": [
    {
     "name": "stdout",
     "output_type": "stream",
     "text": [
      "[array([[-1.1623511 , -0.06016433],\n",
      "       [-0.5562935 ,  0.3165307 ]], dtype=float32), array([[-0.46473038],\n",
      "       [-0.05461788]], dtype=float32)]\n"
     ]
    }
   ],
   "source": [
    "weights = model.get_weights() # Получим веса нашей модели (генерируются случайным образом)\n",
    "print(weights) # Отбразим сгенерированные веса"
   ]
  },
  {
   "cell_type": "code",
   "execution_count": 5,
   "metadata": {
    "colab": {
     "base_uri": "https://localhost:8080/",
     "height": 68
    },
    "id": "zH25v4fV7l7R",
    "outputId": "37e70f98-507e-4891-96c6-1adff16ac025"
   },
   "outputs": [
    {
     "name": "stdout",
     "output_type": "stream",
     "text": [
      "[array([[ 0.42, -0.56],\n",
      "       [ 0.15,  0.83]]), array([[0.93],\n",
      "       [0.02]])]\n"
     ]
    }
   ],
   "source": [
    "w1 = 0.42 # Зададим коэф. w1 вручную\n",
    "w2 = 0.15 # Зададим коэф. w2 вручную\n",
    "w3 = -0.56 # Зададим коэф. w3 вручную\n",
    "w4 = 0.83 # Зададим коэф. w4 вручную\n",
    "w5 = 0.93 # Зададим коэф. w5 вручную\n",
    "w6 = 0.02 # Зададим коэф. w6 вручную\n",
    "new_weight = [np.array([[w1,w3],[w2,w4]]), np.array([[w5],[w6]])] # Сформируем список весов\n",
    "print(new_weight) # Отобразим сформированный список весов\n",
    "model.set_weights(new_weight) # Устанавливаем модели свои собственные веса"
   ]
  },
  {
   "cell_type": "code",
   "execution_count": 6,
   "metadata": {
    "colab": {
     "base_uri": "https://localhost:8080/",
     "height": 68
    },
    "id": "ZnbMjQetTs0X",
    "outputId": "46dbaac4-efbf-4a01-a000-41ce92420699"
   },
   "outputs": [
    {
     "name": "stdout",
     "output_type": "stream",
     "text": [
      "[array([[ 0.42, -0.56],\n",
      "       [ 0.15,  0.83]], dtype=float32), array([[0.93],\n",
      "       [0.02]], dtype=float32)]\n"
     ]
    }
   ],
   "source": [
    "weights = model.get_weights() # Получим веса нашей модели (генерируются случайным образом)\n",
    "print(weights) # Отбразим сгенерированные веса"
   ]
  },
  {
   "cell_type": "code",
   "execution_count": 7,
   "metadata": {
    "colab": {
     "base_uri": "https://localhost:8080/",
     "height": 34
    },
    "id": "yn9ZUfZh7saO",
    "outputId": "77e972fc-a706-4073-de97-551a628661dc"
   },
   "outputs": [
    {
     "data": {
      "text/plain": [
       "(1, 2)"
      ]
     },
     "execution_count": 7,
     "metadata": {},
     "output_type": "execute_result"
    }
   ],
   "source": [
    "x1 = 7.2 # Установим значение x1\n",
    "x2 = -5.8 # Установим значение x2\n",
    "x_train = np.expand_dims(np.array([x1, x2]), 0) # Создадим набор данных для последующего обучения нейронной сети\n",
    "x_train.shape"
   ]
  },
  {
   "cell_type": "code",
   "execution_count": 8,
   "metadata": {
    "colab": {
     "base_uri": "https://localhost:8080/",
     "height": 34
    },
    "id": "_HHEXTgN54ft",
    "outputId": "83962855-a488-450a-f2d5-ac88c993e6c4"
   },
   "outputs": [
    {
     "data": {
      "text/plain": [
       "(2,)"
      ]
     },
     "execution_count": 8,
     "metadata": {},
     "output_type": "execute_result"
    }
   ],
   "source": [
    "k = np.array([x1, x2])\n",
    "k.shape"
   ]
  },
  {
   "cell_type": "code",
   "execution_count": 9,
   "metadata": {
    "colab": {
     "base_uri": "https://localhost:8080/",
     "height": 34
    },
    "id": "ceKeGvAr2lOa",
    "outputId": "70d67688-a04e-441d-c262-1925e2593f72"
   },
   "outputs": [
    {
     "name": "stdout",
     "output_type": "stream",
     "text": [
      "\u001b[1m1/1\u001b[0m \u001b[32m━━━━━━━━━━━━━━━━━━━━\u001b[0m\u001b[37m\u001b[0m \u001b[1m0s\u001b[0m 176ms/step\n",
      "[[1.8262999]]\n"
     ]
    }
   ],
   "source": [
    "y_linear = model.predict(x_train) # Получим значение выхода сети, передав на вход вектор из двух элементов [x1, x2]\n",
    "print(y_linear) # Выведем результат работы сети"
   ]
  },
  {
   "cell_type": "markdown",
   "metadata": {
    "id": "0Y6dbpFVBsHK"
   },
   "source": [
    "**Посчитаем выход сети вручную**"
   ]
  },
  {
   "cell_type": "code",
   "execution_count": 10,
   "metadata": {
    "colab": {
     "base_uri": "https://localhost:8080/",
     "height": 51
    },
    "id": "B4288wzs8JA2",
    "outputId": "4da2a444-a8ca-433f-c724-8cdc203b1e6f"
   },
   "outputs": [
    {
     "name": "stdout",
     "output_type": "stream",
     "text": [
      "2.154\n",
      "-8.846\n"
     ]
    }
   ],
   "source": [
    "H1 = x1 * w1 + x2 * w2 # Получим значение скрытого нейрона H1\n",
    "H2 = x1 * w3 + x2 * w4 # Получим значение скрытого нейрона H2\n",
    "print(H1) # Выведем значение нейрона H1\n",
    "print(H2) # Выведем значение нейрона H2"
   ]
  },
  {
   "cell_type": "code",
   "execution_count": 11,
   "metadata": {
    "colab": {
     "base_uri": "https://localhost:8080/",
     "height": 34
    },
    "id": "TR6mU4wq9E3O",
    "outputId": "91473ce1-5377-4093-9910-bcb4614c5124"
   },
   "outputs": [
    {
     "name": "stdout",
     "output_type": "stream",
     "text": [
      "1.8263000000000003\n"
     ]
    }
   ],
   "source": [
    "Y_linear = H1 * w5 + H2 * w6 # Считаем выход сети\n",
    "print(Y_linear) # Отобразим вывод сети, посчитанный вручную"
   ]
  },
  {
   "cell_type": "code",
   "execution_count": 12,
   "metadata": {
    "colab": {
     "base_uri": "https://localhost:8080/",
     "height": 51
    },
    "id": "-NxpXoS9HoIz",
    "outputId": "8cf9fbbc-664a-46d7-f2ac-25a00e080b67"
   },
   "outputs": [
    {
     "name": "stdout",
     "output_type": "stream",
     "text": [
      "Значение предикта модели: 1.8263\n",
      "Значение посчитанное вручную: 1.8263\n"
     ]
    }
   ],
   "source": [
    "print('Значение предикта модели:', round(y_linear[0][0], 6))\n",
    "print('Значение посчитанное вручную:', round(Y_linear, 6))"
   ]
  },
  {
   "cell_type": "markdown",
   "metadata": {
    "id": "c4pg0HUQCdFk"
   },
   "source": [
    "# Функции активации"
   ]
  },
  {
   "cell_type": "markdown",
   "metadata": {
    "id": "MMkWv4VhC2ti"
   },
   "source": [
    "## sigmoid (сигмоид)\n",
    "\n",
    "![alt text](https://wikimedia.org/api/rest_v1/media/math/render/svg/36f792c44c0a7069ad01386452569d6e34fe95d7) ![alt text](https://upload.wikimedia.org/wikipedia/commons/thumb/5/5b/Activation_logistic.svg/120px-Activation_logistic.svg.png)"
   ]
  },
  {
   "cell_type": "code",
   "execution_count": 13,
   "metadata": {
    "id": "Z5wJ5XJ59UW_"
   },
   "outputs": [],
   "source": [
    "def sigmoid(x): # Зададим функцию расчета сигмоиды\n",
    "  return 1/(1+np.e ** (-x))"
   ]
  },
  {
   "cell_type": "code",
   "execution_count": 14,
   "metadata": {
    "colab": {
     "base_uri": "https://localhost:8080/",
     "height": 221
    },
    "id": "CEI5bt2a92dP",
    "outputId": "081596c6-f990-412b-b4aa-6b06c7496076"
   },
   "outputs": [
    {
     "data": {
      "text/html": [
       "<pre style=\"white-space:pre;overflow-x:auto;line-height:normal;font-family:Menlo,'DejaVu Sans Mono',consolas,'Courier New',monospace\"><span style=\"font-weight: bold\">Model: \"sequential_1\"</span>\n",
       "</pre>\n"
      ],
      "text/plain": [
       "\u001b[1mModel: \"sequential_1\"\u001b[0m\n"
      ]
     },
     "metadata": {},
     "output_type": "display_data"
    },
    {
     "data": {
      "text/html": [
       "<pre style=\"white-space:pre;overflow-x:auto;line-height:normal;font-family:Menlo,'DejaVu Sans Mono',consolas,'Courier New',monospace\">┏━━━━━━━━━━━━━━━━━━━━━━━━━━━━━━━━━━━━━━┳━━━━━━━━━━━━━━━━━━━━━━━━━━━━━┳━━━━━━━━━━━━━━━━━┓\n",
       "┃<span style=\"font-weight: bold\"> Layer (type)                         </span>┃<span style=\"font-weight: bold\"> Output Shape                </span>┃<span style=\"font-weight: bold\">         Param # </span>┃\n",
       "┡━━━━━━━━━━━━━━━━━━━━━━━━━━━━━━━━━━━━━━╇━━━━━━━━━━━━━━━━━━━━━━━━━━━━━╇━━━━━━━━━━━━━━━━━┩\n",
       "│ dense_1 (<span style=\"color: #0087ff; text-decoration-color: #0087ff\">Dense</span>)                      │ (<span style=\"color: #00d7ff; text-decoration-color: #00d7ff\">None</span>, <span style=\"color: #00af00; text-decoration-color: #00af00\">2</span>)                   │               <span style=\"color: #00af00; text-decoration-color: #00af00\">4</span> │\n",
       "├──────────────────────────────────────┼─────────────────────────────┼─────────────────┤\n",
       "│ dense_2 (<span style=\"color: #0087ff; text-decoration-color: #0087ff\">Dense</span>)                      │ (<span style=\"color: #00d7ff; text-decoration-color: #00d7ff\">None</span>, <span style=\"color: #00af00; text-decoration-color: #00af00\">1</span>)                   │               <span style=\"color: #00af00; text-decoration-color: #00af00\">2</span> │\n",
       "└──────────────────────────────────────┴─────────────────────────────┴─────────────────┘\n",
       "</pre>\n"
      ],
      "text/plain": [
       "┏━━━━━━━━━━━━━━━━━━━━━━━━━━━━━━━━━━━━━━┳━━━━━━━━━━━━━━━━━━━━━━━━━━━━━┳━━━━━━━━━━━━━━━━━┓\n",
       "┃\u001b[1m \u001b[0m\u001b[1mLayer (type)                        \u001b[0m\u001b[1m \u001b[0m┃\u001b[1m \u001b[0m\u001b[1mOutput Shape               \u001b[0m\u001b[1m \u001b[0m┃\u001b[1m \u001b[0m\u001b[1m        Param #\u001b[0m\u001b[1m \u001b[0m┃\n",
       "┡━━━━━━━━━━━━━━━━━━━━━━━━━━━━━━━━━━━━━━╇━━━━━━━━━━━━━━━━━━━━━━━━━━━━━╇━━━━━━━━━━━━━━━━━┩\n",
       "│ dense_1 (\u001b[38;5;33mDense\u001b[0m)                      │ (\u001b[38;5;45mNone\u001b[0m, \u001b[38;5;34m2\u001b[0m)                   │               \u001b[38;5;34m4\u001b[0m │\n",
       "├──────────────────────────────────────┼─────────────────────────────┼─────────────────┤\n",
       "│ dense_2 (\u001b[38;5;33mDense\u001b[0m)                      │ (\u001b[38;5;45mNone\u001b[0m, \u001b[38;5;34m1\u001b[0m)                   │               \u001b[38;5;34m2\u001b[0m │\n",
       "└──────────────────────────────────────┴─────────────────────────────┴─────────────────┘\n"
      ]
     },
     "metadata": {},
     "output_type": "display_data"
    },
    {
     "data": {
      "text/html": [
       "<pre style=\"white-space:pre;overflow-x:auto;line-height:normal;font-family:Menlo,'DejaVu Sans Mono',consolas,'Courier New',monospace\"><span style=\"font-weight: bold\"> Total params: </span><span style=\"color: #00af00; text-decoration-color: #00af00\">6</span> (24.00 B)\n",
       "</pre>\n"
      ],
      "text/plain": [
       "\u001b[1m Total params: \u001b[0m\u001b[38;5;34m6\u001b[0m (24.00 B)\n"
      ]
     },
     "metadata": {},
     "output_type": "display_data"
    },
    {
     "data": {
      "text/html": [
       "<pre style=\"white-space:pre;overflow-x:auto;line-height:normal;font-family:Menlo,'DejaVu Sans Mono',consolas,'Courier New',monospace\"><span style=\"font-weight: bold\"> Trainable params: </span><span style=\"color: #00af00; text-decoration-color: #00af00\">6</span> (24.00 B)\n",
       "</pre>\n"
      ],
      "text/plain": [
       "\u001b[1m Trainable params: \u001b[0m\u001b[38;5;34m6\u001b[0m (24.00 B)\n"
      ]
     },
     "metadata": {},
     "output_type": "display_data"
    },
    {
     "data": {
      "text/html": [
       "<pre style=\"white-space:pre;overflow-x:auto;line-height:normal;font-family:Menlo,'DejaVu Sans Mono',consolas,'Courier New',monospace\"><span style=\"font-weight: bold\"> Non-trainable params: </span><span style=\"color: #00af00; text-decoration-color: #00af00\">0</span> (0.00 B)\n",
       "</pre>\n"
      ],
      "text/plain": [
       "\u001b[1m Non-trainable params: \u001b[0m\u001b[38;5;34m0\u001b[0m (0.00 B)\n"
      ]
     },
     "metadata": {},
     "output_type": "display_data"
    }
   ],
   "source": [
    "# Пересоздадим нейронную сеть, указав в качестве функции активации сигмоиду\n",
    "model_sigmoid = Sequential() # Создаем пустую модель нейронной сети\n",
    "model_sigmoid.add(Dense(2, input_dim = 2, activation='sigmoid', use_bias=False)) # Добавляем полносвязный слой с 2мя нейронами (указываем, что на вход принимаем вектор из двух элементов), функция активация - sigmoid,  и отключаем использование нейрона смещения\n",
    "model_sigmoid.add(Dense(1, activation='sigmoid', use_bias=False)) # Добавляем полносвязный слой с 1 нейроном (выходной слой нашей модели), здесь уже не требуется указывать размерность входных данных, функция активация - sigmoid, и также отключаем использование нейрона смещения\n",
    "model_sigmoid.summary() # Отобразим структуру созданной сети (должна совпадать с первой моделью)\n",
    "model_sigmoid.set_weights(new_weight) # Установим посчитанные выше веса"
   ]
  },
  {
   "cell_type": "code",
   "execution_count": 15,
   "metadata": {
    "colab": {
     "base_uri": "https://localhost:8080/",
     "height": 34
    },
    "id": "Hrnda0PxGppt",
    "outputId": "663a97df-859a-4c81-cad2-f49a687979e8"
   },
   "outputs": [
    {
     "name": "stdout",
     "output_type": "stream",
     "text": [
      "\u001b[1m1/1\u001b[0m \u001b[32m━━━━━━━━━━━━━━━━━━━━\u001b[0m\u001b[37m\u001b[0m \u001b[1m0s\u001b[0m 55ms/step\n",
      "[[0.6970569]]\n"
     ]
    }
   ],
   "source": [
    "# Выполним те же самые шаги, что и выше\n",
    "y_sigmoid = model_sigmoid.predict(x_train) # Получим значение выхода сети, передав на вход вектор из двух элементов [x1, x2]\n",
    "print(y_sigmoid) # Выведем результат работы сети"
   ]
  },
  {
   "cell_type": "markdown",
   "metadata": {
    "id": "ugSnFfUK7puk"
   },
   "source": [
    "*Посчитаем значение выхода сети вручную*"
   ]
  },
  {
   "cell_type": "code",
   "execution_count": 16,
   "metadata": {
    "colab": {
     "base_uri": "https://localhost:8080/",
     "height": 51
    },
    "id": "6sqyNy5jHnI-",
    "outputId": "32d7fb19-628b-48a5-a2d4-f5c3c11358bf"
   },
   "outputs": [
    {
     "name": "stdout",
     "output_type": "stream",
     "text": [
      "0.8960419706149801\n",
      "0.00014393569134056814\n"
     ]
    }
   ],
   "source": [
    "H1_sigmoid = sigmoid(x1 * w1 + x2 * w2) # Получим значение скрытого нейрона H1\n",
    "H2_sigmoid = sigmoid(x1 * w3 + x2 * w4) # Получим значение скрытого нейрона H2\n",
    "print(H1_sigmoid) # Выведем значение нейрона H1\n",
    "print(H2_sigmoid) # Выведем значение нейрона H2"
   ]
  },
  {
   "cell_type": "code",
   "execution_count": 17,
   "metadata": {
    "colab": {
     "base_uri": "https://localhost:8080/",
     "height": 34
    },
    "id": "a6Vs6rr-IBYM",
    "outputId": "653c69bf-442b-4d26-807d-d643f2718063"
   },
   "outputs": [
    {
     "name": "stdout",
     "output_type": "stream",
     "text": [
      "0.6970568720142808\n"
     ]
    }
   ],
   "source": [
    "Y_sigmoid = sigmoid(H1_sigmoid * w5 + H2_sigmoid * w6) # Считаем выход сети\n",
    "print(Y_sigmoid) # Отобразим вывод сети, посчитанный вручную"
   ]
  },
  {
   "cell_type": "code",
   "execution_count": 18,
   "metadata": {
    "colab": {
     "base_uri": "https://localhost:8080/",
     "height": 51
    },
    "id": "i81i16C6ITjG",
    "outputId": "a1087ddb-2d34-408b-a42c-4a4126f6bbed"
   },
   "outputs": [
    {
     "name": "stdout",
     "output_type": "stream",
     "text": [
      "Значение предикта модели: 0.697057\n",
      "Значение посчитанное вручную: 0.697057\n"
     ]
    }
   ],
   "source": [
    "print('Значение предикта модели:', round(y_sigmoid[0][0], 6))\n",
    "print('Значение посчитанное вручную:', round(Y_sigmoid, 6))"
   ]
  },
  {
   "cell_type": "markdown",
   "metadata": {
    "id": "iD7hR5hXNLUe"
   },
   "source": [
    "## relu (линейный выпрямитель)\n",
    "\n",
    "![alt text](https://wikimedia.org/api/rest_v1/media/math/render/svg/f4353f4e3e484130504049599d2e7b040793e1eb) ![alt text](https://upload.wikimedia.org/wikipedia/commons/thumb/f/fe/Activation_rectified_linear.svg/120px-Activation_rectified_linear.svg.png)"
   ]
  },
  {
   "cell_type": "code",
   "execution_count": 19,
   "metadata": {
    "id": "2ZayzTYWNKYv"
   },
   "outputs": [],
   "source": [
    "def relu(x): # Зададим функцию расчета сигмоиды\n",
    "  return np.clip(x, 0, np.inf)"
   ]
  },
  {
   "cell_type": "code",
   "execution_count": 20,
   "metadata": {
    "colab": {
     "base_uri": "https://localhost:8080/",
     "height": 221
    },
    "id": "-uLeuUBMOjzf",
    "outputId": "fb7a9cd9-3e8f-4a54-ed36-b74143a2d8f2"
   },
   "outputs": [
    {
     "data": {
      "text/html": [
       "<pre style=\"white-space:pre;overflow-x:auto;line-height:normal;font-family:Menlo,'DejaVu Sans Mono',consolas,'Courier New',monospace\"><span style=\"font-weight: bold\">Model: \"sequential_2\"</span>\n",
       "</pre>\n"
      ],
      "text/plain": [
       "\u001b[1mModel: \"sequential_2\"\u001b[0m\n"
      ]
     },
     "metadata": {},
     "output_type": "display_data"
    },
    {
     "data": {
      "text/html": [
       "<pre style=\"white-space:pre;overflow-x:auto;line-height:normal;font-family:Menlo,'DejaVu Sans Mono',consolas,'Courier New',monospace\">┏━━━━━━━━━━━━━━━━━━━━━━━━━━━━━━━━━━━━━━┳━━━━━━━━━━━━━━━━━━━━━━━━━━━━━┳━━━━━━━━━━━━━━━━━┓\n",
       "┃<span style=\"font-weight: bold\"> Layer (type)                         </span>┃<span style=\"font-weight: bold\"> Output Shape                </span>┃<span style=\"font-weight: bold\">         Param # </span>┃\n",
       "┡━━━━━━━━━━━━━━━━━━━━━━━━━━━━━━━━━━━━━━╇━━━━━━━━━━━━━━━━━━━━━━━━━━━━━╇━━━━━━━━━━━━━━━━━┩\n",
       "│ dense_3 (<span style=\"color: #0087ff; text-decoration-color: #0087ff\">Dense</span>)                      │ (<span style=\"color: #00d7ff; text-decoration-color: #00d7ff\">None</span>, <span style=\"color: #00af00; text-decoration-color: #00af00\">2</span>)                   │               <span style=\"color: #00af00; text-decoration-color: #00af00\">4</span> │\n",
       "├──────────────────────────────────────┼─────────────────────────────┼─────────────────┤\n",
       "│ dense_4 (<span style=\"color: #0087ff; text-decoration-color: #0087ff\">Dense</span>)                      │ (<span style=\"color: #00d7ff; text-decoration-color: #00d7ff\">None</span>, <span style=\"color: #00af00; text-decoration-color: #00af00\">1</span>)                   │               <span style=\"color: #00af00; text-decoration-color: #00af00\">2</span> │\n",
       "└──────────────────────────────────────┴─────────────────────────────┴─────────────────┘\n",
       "</pre>\n"
      ],
      "text/plain": [
       "┏━━━━━━━━━━━━━━━━━━━━━━━━━━━━━━━━━━━━━━┳━━━━━━━━━━━━━━━━━━━━━━━━━━━━━┳━━━━━━━━━━━━━━━━━┓\n",
       "┃\u001b[1m \u001b[0m\u001b[1mLayer (type)                        \u001b[0m\u001b[1m \u001b[0m┃\u001b[1m \u001b[0m\u001b[1mOutput Shape               \u001b[0m\u001b[1m \u001b[0m┃\u001b[1m \u001b[0m\u001b[1m        Param #\u001b[0m\u001b[1m \u001b[0m┃\n",
       "┡━━━━━━━━━━━━━━━━━━━━━━━━━━━━━━━━━━━━━━╇━━━━━━━━━━━━━━━━━━━━━━━━━━━━━╇━━━━━━━━━━━━━━━━━┩\n",
       "│ dense_3 (\u001b[38;5;33mDense\u001b[0m)                      │ (\u001b[38;5;45mNone\u001b[0m, \u001b[38;5;34m2\u001b[0m)                   │               \u001b[38;5;34m4\u001b[0m │\n",
       "├──────────────────────────────────────┼─────────────────────────────┼─────────────────┤\n",
       "│ dense_4 (\u001b[38;5;33mDense\u001b[0m)                      │ (\u001b[38;5;45mNone\u001b[0m, \u001b[38;5;34m1\u001b[0m)                   │               \u001b[38;5;34m2\u001b[0m │\n",
       "└──────────────────────────────────────┴─────────────────────────────┴─────────────────┘\n"
      ]
     },
     "metadata": {},
     "output_type": "display_data"
    },
    {
     "data": {
      "text/html": [
       "<pre style=\"white-space:pre;overflow-x:auto;line-height:normal;font-family:Menlo,'DejaVu Sans Mono',consolas,'Courier New',monospace\"><span style=\"font-weight: bold\"> Total params: </span><span style=\"color: #00af00; text-decoration-color: #00af00\">6</span> (24.00 B)\n",
       "</pre>\n"
      ],
      "text/plain": [
       "\u001b[1m Total params: \u001b[0m\u001b[38;5;34m6\u001b[0m (24.00 B)\n"
      ]
     },
     "metadata": {},
     "output_type": "display_data"
    },
    {
     "data": {
      "text/html": [
       "<pre style=\"white-space:pre;overflow-x:auto;line-height:normal;font-family:Menlo,'DejaVu Sans Mono',consolas,'Courier New',monospace\"><span style=\"font-weight: bold\"> Trainable params: </span><span style=\"color: #00af00; text-decoration-color: #00af00\">6</span> (24.00 B)\n",
       "</pre>\n"
      ],
      "text/plain": [
       "\u001b[1m Trainable params: \u001b[0m\u001b[38;5;34m6\u001b[0m (24.00 B)\n"
      ]
     },
     "metadata": {},
     "output_type": "display_data"
    },
    {
     "data": {
      "text/html": [
       "<pre style=\"white-space:pre;overflow-x:auto;line-height:normal;font-family:Menlo,'DejaVu Sans Mono',consolas,'Courier New',monospace\"><span style=\"font-weight: bold\"> Non-trainable params: </span><span style=\"color: #00af00; text-decoration-color: #00af00\">0</span> (0.00 B)\n",
       "</pre>\n"
      ],
      "text/plain": [
       "\u001b[1m Non-trainable params: \u001b[0m\u001b[38;5;34m0\u001b[0m (0.00 B)\n"
      ]
     },
     "metadata": {},
     "output_type": "display_data"
    }
   ],
   "source": [
    "# Пересоздадим нейронную сеть, указав в качестве функции активации relu\n",
    "model_relu = Sequential() # Создаем пустую модель нейронной сети\n",
    "model_relu.add(Dense(2, input_dim = 2, activation='relu', use_bias=False)) # Добавляем полносвязный слой с 2мя нейронами (указываем, что на вход принимаем вектор из двух элементв), функция активация - relu,  и отключаем использование нейрона смещения\n",
    "model_relu.add(Dense(1, activation='relu', use_bias=False)) # Добавляем полносвязный слой с 1 нейроном (выходной слой нашей модели), здесь уже не требуется указывать размерность входных данных, функция активация - relu, и также отключаем использование нейрона смещения\n",
    "model_relu.summary() # Отобразим структуру созданной сети (должна совпадать с первой моделью)\n",
    "model_relu.set_weights(new_weight) # Установим посчитанные выше веса"
   ]
  },
  {
   "cell_type": "code",
   "execution_count": 21,
   "metadata": {
    "colab": {
     "base_uri": "https://localhost:8080/",
     "height": 34
    },
    "id": "vcTGL05mOp79",
    "outputId": "966443e0-e832-4391-aaa3-7b5cf7717895"
   },
   "outputs": [
    {
     "name": "stdout",
     "output_type": "stream",
     "text": [
      "\u001b[1m1/1\u001b[0m \u001b[32m━━━━━━━━━━━━━━━━━━━━\u001b[0m\u001b[37m\u001b[0m \u001b[1m0s\u001b[0m 53ms/step\n",
      "[[2.0032198]]\n"
     ]
    }
   ],
   "source": [
    "# Выполним теже самые шаги, что и выше\n",
    "y_relu = model_relu.predict(x_train) # Получим значение выхода сети, передав на вход вектор из двух элементов [x1, x2]\n",
    "print(y_relu) # Выведем результат работы сети"
   ]
  },
  {
   "cell_type": "markdown",
   "metadata": {
    "id": "44A3y5NZ7zl4"
   },
   "source": [
    "*Посчитаем значение выхода сети вручную*"
   ]
  },
  {
   "cell_type": "code",
   "execution_count": 22,
   "metadata": {
    "colab": {
     "base_uri": "https://localhost:8080/",
     "height": 51
    },
    "id": "3crw4GxLOv31",
    "outputId": "5144a4b6-39c5-4bf6-887c-1e4496418606"
   },
   "outputs": [
    {
     "name": "stdout",
     "output_type": "stream",
     "text": [
      "2.154\n",
      "0.0\n"
     ]
    }
   ],
   "source": [
    "H1_relu = relu(x1 * w1 + x2 * w2) # Получим значение скрытого нейрона H1\n",
    "H2_relu = relu(x1 * w3 + x2 * w4) # Получим значение скрытого нейрона H2\n",
    "print(H1_relu) # Выведем значение нейрона H1\n",
    "print(H2_relu) # Выведем значение нейрона H2"
   ]
  },
  {
   "cell_type": "code",
   "execution_count": 23,
   "metadata": {
    "colab": {
     "base_uri": "https://localhost:8080/",
     "height": 34
    },
    "id": "phDRSz7IO0_F",
    "outputId": "a3dba468-3840-4fe4-bf5e-08c654ea735e"
   },
   "outputs": [
    {
     "name": "stdout",
     "output_type": "stream",
     "text": [
      "2.0032200000000002\n"
     ]
    }
   ],
   "source": [
    "Y_relu = relu(H1_relu * w5 + H2_relu * w6) # Считаем выход сети\n",
    "print(Y_relu) # Отобразим вывод сети, посчитанный вручную"
   ]
  },
  {
   "cell_type": "code",
   "execution_count": 24,
   "metadata": {
    "colab": {
     "base_uri": "https://localhost:8080/",
     "height": 51
    },
    "id": "OrDqUr9iPEQT",
    "outputId": "b204af40-95ce-4652-a4f8-260225024f8f"
   },
   "outputs": [
    {
     "name": "stdout",
     "output_type": "stream",
     "text": [
      "Значение предикта модели: 2.00322\n",
      "Значение посчитанное вручную: 2.00322\n"
     ]
    }
   ],
   "source": [
    "print('Значение предикта модели:', round(y_relu[0][0], 6))\n",
    "print('Значение посчитанное вручную:', round(Y_relu, 6))"
   ]
  },
  {
   "cell_type": "markdown",
   "metadata": {
    "id": "rrWmNM6jKBrc"
   },
   "source": [
    "## tanh (гиперболический тангенс)\n",
    "\n",
    "\n",
    "![alt text](https://wikimedia.org/api/rest_v1/media/math/render/svg/5fd13a1c501e64926c12d52b620f1e656251fc15) ![alt text](https://upload.wikimedia.org/wikipedia/commons/thumb/c/cb/Activation_tanh.svg/120px-Activation_tanh.svg.png)"
   ]
  },
  {
   "cell_type": "code",
   "execution_count": 25,
   "metadata": {
    "id": "hNh2OiDSJuHR"
   },
   "outputs": [],
   "source": [
    "def th(x): # Зададим функцию расчета гиперболического тангенса\n",
    "  return (np.e ** x - np.e ** (-x)) / (np.e ** x + np.e ** (-x))"
   ]
  },
  {
   "cell_type": "code",
   "execution_count": 26,
   "metadata": {
    "colab": {
     "base_uri": "https://localhost:8080/"
    },
    "id": "WkQLEOLbKv3p",
    "outputId": "3c1b76e8-9cdc-4203-d32c-aa36a3019e0d"
   },
   "outputs": [
    {
     "data": {
      "text/html": [
       "<pre style=\"white-space:pre;overflow-x:auto;line-height:normal;font-family:Menlo,'DejaVu Sans Mono',consolas,'Courier New',monospace\"><span style=\"font-weight: bold\">Model: \"sequential_3\"</span>\n",
       "</pre>\n"
      ],
      "text/plain": [
       "\u001b[1mModel: \"sequential_3\"\u001b[0m\n"
      ]
     },
     "metadata": {},
     "output_type": "display_data"
    },
    {
     "data": {
      "text/html": [
       "<pre style=\"white-space:pre;overflow-x:auto;line-height:normal;font-family:Menlo,'DejaVu Sans Mono',consolas,'Courier New',monospace\">┏━━━━━━━━━━━━━━━━━━━━━━━━━━━━━━━━━━━━━━┳━━━━━━━━━━━━━━━━━━━━━━━━━━━━━┳━━━━━━━━━━━━━━━━━┓\n",
       "┃<span style=\"font-weight: bold\"> Layer (type)                         </span>┃<span style=\"font-weight: bold\"> Output Shape                </span>┃<span style=\"font-weight: bold\">         Param # </span>┃\n",
       "┡━━━━━━━━━━━━━━━━━━━━━━━━━━━━━━━━━━━━━━╇━━━━━━━━━━━━━━━━━━━━━━━━━━━━━╇━━━━━━━━━━━━━━━━━┩\n",
       "│ dense_5 (<span style=\"color: #0087ff; text-decoration-color: #0087ff\">Dense</span>)                      │ (<span style=\"color: #00d7ff; text-decoration-color: #00d7ff\">None</span>, <span style=\"color: #00af00; text-decoration-color: #00af00\">2</span>)                   │               <span style=\"color: #00af00; text-decoration-color: #00af00\">4</span> │\n",
       "├──────────────────────────────────────┼─────────────────────────────┼─────────────────┤\n",
       "│ dense_6 (<span style=\"color: #0087ff; text-decoration-color: #0087ff\">Dense</span>)                      │ (<span style=\"color: #00d7ff; text-decoration-color: #00d7ff\">None</span>, <span style=\"color: #00af00; text-decoration-color: #00af00\">1</span>)                   │               <span style=\"color: #00af00; text-decoration-color: #00af00\">2</span> │\n",
       "└──────────────────────────────────────┴─────────────────────────────┴─────────────────┘\n",
       "</pre>\n"
      ],
      "text/plain": [
       "┏━━━━━━━━━━━━━━━━━━━━━━━━━━━━━━━━━━━━━━┳━━━━━━━━━━━━━━━━━━━━━━━━━━━━━┳━━━━━━━━━━━━━━━━━┓\n",
       "┃\u001b[1m \u001b[0m\u001b[1mLayer (type)                        \u001b[0m\u001b[1m \u001b[0m┃\u001b[1m \u001b[0m\u001b[1mOutput Shape               \u001b[0m\u001b[1m \u001b[0m┃\u001b[1m \u001b[0m\u001b[1m        Param #\u001b[0m\u001b[1m \u001b[0m┃\n",
       "┡━━━━━━━━━━━━━━━━━━━━━━━━━━━━━━━━━━━━━━╇━━━━━━━━━━━━━━━━━━━━━━━━━━━━━╇━━━━━━━━━━━━━━━━━┩\n",
       "│ dense_5 (\u001b[38;5;33mDense\u001b[0m)                      │ (\u001b[38;5;45mNone\u001b[0m, \u001b[38;5;34m2\u001b[0m)                   │               \u001b[38;5;34m4\u001b[0m │\n",
       "├──────────────────────────────────────┼─────────────────────────────┼─────────────────┤\n",
       "│ dense_6 (\u001b[38;5;33mDense\u001b[0m)                      │ (\u001b[38;5;45mNone\u001b[0m, \u001b[38;5;34m1\u001b[0m)                   │               \u001b[38;5;34m2\u001b[0m │\n",
       "└──────────────────────────────────────┴─────────────────────────────┴─────────────────┘\n"
      ]
     },
     "metadata": {},
     "output_type": "display_data"
    },
    {
     "data": {
      "text/html": [
       "<pre style=\"white-space:pre;overflow-x:auto;line-height:normal;font-family:Menlo,'DejaVu Sans Mono',consolas,'Courier New',monospace\"><span style=\"font-weight: bold\"> Total params: </span><span style=\"color: #00af00; text-decoration-color: #00af00\">6</span> (24.00 B)\n",
       "</pre>\n"
      ],
      "text/plain": [
       "\u001b[1m Total params: \u001b[0m\u001b[38;5;34m6\u001b[0m (24.00 B)\n"
      ]
     },
     "metadata": {},
     "output_type": "display_data"
    },
    {
     "data": {
      "text/html": [
       "<pre style=\"white-space:pre;overflow-x:auto;line-height:normal;font-family:Menlo,'DejaVu Sans Mono',consolas,'Courier New',monospace\"><span style=\"font-weight: bold\"> Trainable params: </span><span style=\"color: #00af00; text-decoration-color: #00af00\">6</span> (24.00 B)\n",
       "</pre>\n"
      ],
      "text/plain": [
       "\u001b[1m Trainable params: \u001b[0m\u001b[38;5;34m6\u001b[0m (24.00 B)\n"
      ]
     },
     "metadata": {},
     "output_type": "display_data"
    },
    {
     "data": {
      "text/html": [
       "<pre style=\"white-space:pre;overflow-x:auto;line-height:normal;font-family:Menlo,'DejaVu Sans Mono',consolas,'Courier New',monospace\"><span style=\"font-weight: bold\"> Non-trainable params: </span><span style=\"color: #00af00; text-decoration-color: #00af00\">0</span> (0.00 B)\n",
       "</pre>\n"
      ],
      "text/plain": [
       "\u001b[1m Non-trainable params: \u001b[0m\u001b[38;5;34m0\u001b[0m (0.00 B)\n"
      ]
     },
     "metadata": {},
     "output_type": "display_data"
    }
   ],
   "source": [
    "# Пересоздадим нейронную сеть, указав в качестве функции активации - tanh\n",
    "model_th = Sequential() # Создаем пустую модель нейронной сети\n",
    "model_th.add(Dense(2, input_dim = 2, activation='tanh', use_bias=False)) # Добавляем полносвязный слой с 2мя нейронами (указываем, что на вход принимаем вектор из двух элементв), функция активация - tanh,  и отключаем использование нейрона смещения\n",
    "model_th.add(Dense(1, activation='tanh', use_bias=False)) # Добавляем полносвязный слой с 1 нейроном (выходной слой нашей модели) (здесь уже не требуется указывать размерность входных данных), функция активация - tanh, и так же отключаем использование нейрона смещения\n",
    "model_th.summary() # Отобразим структуру созданной сети (должна совпадать с первой моделью)\n",
    "model_th.set_weights(new_weight) # Установим посчитанные выше веса"
   ]
  },
  {
   "cell_type": "code",
   "execution_count": 27,
   "metadata": {
    "id": "kaB_JYZkK1SX"
   },
   "outputs": [
    {
     "name": "stdout",
     "output_type": "stream",
     "text": [
      "\u001b[1m1/1\u001b[0m \u001b[32m━━━━━━━━━━━━━━━━━━━━\u001b[0m\u001b[37m\u001b[0m \u001b[1m0s\u001b[0m 57ms/step\n",
      "[[0.70906264]]\n"
     ]
    }
   ],
   "source": [
    "# Выполним теже самые шаги, что и выше\n",
    "y_th = model_th.predict(x_train) # Получим значение выхода сети, передав на вход вектор из двух элементов [x1, x2]\n",
    "print(y_th) # Выведем результат работы сети"
   ]
  },
  {
   "cell_type": "markdown",
   "metadata": {
    "id": "IPZ23XCM73Tx"
   },
   "source": [
    "*Посчитаем значение выхода сети вручную*"
   ]
  },
  {
   "cell_type": "code",
   "execution_count": 28,
   "metadata": {
    "id": "E0LSRNn7K-0H"
   },
   "outputs": [
    {
     "name": "stdout",
     "output_type": "stream",
     "text": [
      "0.9734366670870239\n",
      "-0.9999999585531038\n"
     ]
    }
   ],
   "source": [
    "H1_th = th(x1 * w1 + x2 * w2) # Получим значение скрытого нейрона H1\n",
    "H2_th = th(x1 * w3 + x2 * w4) # Получим значение скрытого нейрона H2\n",
    "print(H1_th) # Выведем значение нейрона H1\n",
    "print(H2_th) # Выведем значение нейрона H2"
   ]
  },
  {
   "cell_type": "code",
   "execution_count": 29,
   "metadata": {
    "id": "lQtXpfc_LFEY"
   },
   "outputs": [
    {
     "name": "stdout",
     "output_type": "stream",
     "text": [
      "0.709062603515898\n"
     ]
    }
   ],
   "source": [
    "Y_th = th(H1_th * w5 + H2_th * w6) # Считаем выход сети\n",
    "print(Y_th) # Отобразим вывод сети, посчитанный вручную"
   ]
  },
  {
   "cell_type": "code",
   "execution_count": 30,
   "metadata": {
    "id": "ZxXWF2yfLOGo"
   },
   "outputs": [
    {
     "name": "stdout",
     "output_type": "stream",
     "text": [
      "Значение предикта модели: 0.709063\n",
      "Значение посчитанное вручную: 0.709063\n"
     ]
    }
   ],
   "source": [
    "print('Значение предикта модели:', round(y_th[0][0], 6))\n",
    "print('Значение посчитанное вручную:', round(Y_th, 6))"
   ]
  },
  {
   "cell_type": "markdown",
   "metadata": {
    "id": "rstrtRs2O1so"
   },
   "source": [
    "# Функции ошибок"
   ]
  },
  {
   "cell_type": "code",
   "execution_count": 31,
   "metadata": {
    "id": "QD6QYS68LRIn"
   },
   "outputs": [],
   "source": [
    "# Зададим значение, которое должна возвращать наша сеть\n",
    "y_real = 0.34"
   ]
  },
  {
   "cell_type": "code",
   "execution_count": 32,
   "metadata": {
    "colab": {
     "base_uri": "https://localhost:8080/",
     "height": 51
    },
    "id": "BT5IWsYuQLyH",
    "outputId": "860cfbcc-9d1a-4ad1-bb76-85398ed81a61"
   },
   "outputs": [
    {
     "name": "stdout",
     "output_type": "stream",
     "text": [
      "Значение, к которому должна стремиться наша модель: 0.34\n",
      "Текущее значение, которое возвращает наша модель: 2.0032198\n"
     ]
    }
   ],
   "source": [
    "# Возьмем значение, которое возвращает одна из рассмотренных выше сетей, например, сеть model_relu\n",
    "print ('Значение, к которому должна стремиться наша модель:', y_real)\n",
    "print ('Текущее значение, которое возвращает наша модель:', y_relu[0][0])"
   ]
  },
  {
   "cell_type": "code",
   "execution_count": 33,
   "metadata": {
    "colab": {
     "base_uri": "https://localhost:8080/",
     "height": 51
    },
    "id": "6nnjNKvpUJ-_",
    "outputId": "426d1f1b-8a25-4c63-d275-0031306b09cd"
   },
   "outputs": [
    {
     "name": "stdout",
     "output_type": "stream",
     "text": [
      "[0.34]\n",
      "[2.0032198]\n"
     ]
    }
   ],
   "source": [
    "# Создадим список y_true, где будут храниться значения, к которым должна стремиться модель, и список y_pred, где будут храниться текущие значения, которые возвращает модель\n",
    "y_true = [y_real]\n",
    "y_pred = [y_relu[0][0]]\n",
    "print(y_true)\n",
    "print(y_pred)"
   ]
  },
  {
   "cell_type": "markdown",
   "metadata": {
    "id": "5BUXluCMWpMB"
   },
   "source": [
    "## MAE\n",
    "\n",
    "mean_absolute_error (средняя абсолютная ошибка)\n",
    "\n",
    "![alt text](https://wikimedia.org/api/rest_v1/media/math/render/svg/3ef87b78a9af65e308cf4aa9acf6f203efbdeded)\n"
   ]
  },
  {
   "cell_type": "code",
   "execution_count": 34,
   "metadata": {
    "colab": {
     "base_uri": "https://localhost:8080/",
     "height": 34
    },
    "id": "yNg7t064VQZi",
    "outputId": "bbfbe6b3-b292-4afc-a719-7e92e1d4a385"
   },
   "outputs": [
    {
     "name": "stdout",
     "output_type": "stream",
     "text": [
      "Значение ошибки:  1.6632198429107665\n"
     ]
    }
   ],
   "source": [
    "n = 1 # Задаем количество элементов\n",
    "mae = 0 # Инициализируем начальное значение ошибки\n",
    "for i in range(n): # Проходим по всем элементам\n",
    "  mae += abs(y_true[i] - y_pred[i]) # Увеличиваем значение ошибки для текущего элемента\n",
    "mae /= n # Считаем среднее значение\n",
    "print ('Значение ошибки: ', mae) # Выводим посчитанное значение ошибки"
   ]
  },
  {
   "cell_type": "code",
   "execution_count": 35,
   "metadata": {
    "colab": {
     "base_uri": "https://localhost:8080/",
     "height": 34
    },
    "id": "ej--v7bkXcz-",
    "outputId": "fef146be-46ce-45ab-9b26-c9bf9320c5fb"
   },
   "outputs": [
    {
     "name": "stdout",
     "output_type": "stream",
     "text": [
      "1.6632198429107665\n"
     ]
    }
   ],
   "source": [
    "# Так как у нас всего одно выходное значение и один входной набор данных, то можно записать просто:\n",
    "mae2 = abs(y_real - y_relu[0][0]) # Считаем значение ошибки для единичного набора данных\n",
    "print(mae2) # Выводим посчитанное значение"
   ]
  },
  {
   "cell_type": "markdown",
   "metadata": {
    "id": "dntk9WK6TbA-"
   },
   "source": [
    "## MSE\n",
    "\n",
    "mean_squared_error (среднеквадратическая ошибка)\n",
    "\n",
    "![alt text](https://wikimedia.org/api/rest_v1/media/math/render/svg/e258221518869aa1c6561bb75b99476c4734108e)"
   ]
  },
  {
   "cell_type": "code",
   "execution_count": 36,
   "metadata": {
    "colab": {
     "base_uri": "https://localhost:8080/",
     "height": 34
    },
    "id": "V_0x3TgpQ2Xw",
    "outputId": "acea4601-3bab-45df-8459-1de7e1622030"
   },
   "outputs": [
    {
     "name": "stdout",
     "output_type": "stream",
     "text": [
      "Значение ошибки:  2.766300245852115\n"
     ]
    }
   ],
   "source": [
    "n = 1 # Задаем количество элементов\n",
    "mse = 0 # Инициализируем начальное значение ошибки\n",
    "for i in range(n): # Проходим по всем элементам\n",
    "  mse += (y_true[i] - y_pred[i]) ** 2 # Увеличиваем значение ошибки для текущего элемента\n",
    "mse /= n # Считаем среднее значение\n",
    "print ('Значение ошибки: ', mse) # Выводим посчитанное значение ошибки"
   ]
  },
  {
   "cell_type": "code",
   "execution_count": 37,
   "metadata": {
    "colab": {
     "base_uri": "https://localhost:8080/",
     "height": 34
    },
    "id": "CUBAMFsIU3_I",
    "outputId": "085f91fd-fdb0-4dd3-aca4-b7dd52cc6593"
   },
   "outputs": [
    {
     "name": "stdout",
     "output_type": "stream",
     "text": [
      "2.766300245852115\n"
     ]
    }
   ],
   "source": [
    "# Так как у нас всего одно выходное значение и один входной набор данных, то можно записать просто:\n",
    "mse2 = (y_real - y_relu[0][0]) ** 2 # Считаем значение ошибки для единичного набора данных\n",
    "print(mse2) # Выводим посчитанное значение"
   ]
  },
  {
   "cell_type": "markdown",
   "metadata": {
    "id": "6tP0Iq2NX9qK"
   },
   "source": [
    "## BINARY_CROSSENTROPY\n",
    "\n",
    "бинарная кроссэнтропия\n",
    "\n",
    "![alt text](https://miro.medium.com/max/1096/1*rdBw0E-My8Gu3f_BOB6GMA.png)"
   ]
  },
  {
   "cell_type": "code",
   "execution_count": 38,
   "metadata": {
    "colab": {
     "base_uri": "https://localhost:8080/",
     "height": 34
    },
    "id": "Xe3li7nNZZLR",
    "outputId": "ae3eb026-966f-4f5d-e707-62f65c167a6b"
   },
   "outputs": [
    {
     "name": "stdout",
     "output_type": "stream",
     "text": [
      "0.9108807644486826\n"
     ]
    }
   ],
   "source": [
    "# Так как у нас всего одно выходное значение и один входной набор данных, то можно записать просто:\n",
    "bc = - (y_real * np.log(y_sigmoid[0][0])  + (1 - y_real) * np.log(1 - y_sigmoid[0][0])) # Считаем значение ошибки\n",
    "print(bc) # Выводим посчитанное значение"
   ]
  },
  {
   "cell_type": "markdown",
   "metadata": {
    "id": "c3-PovDMb2TU"
   },
   "source": [
    "# Оптимизаторы\n"
   ]
  },
  {
   "cell_type": "code",
   "execution_count": 39,
   "metadata": {
    "colab": {
     "base_uri": "https://localhost:8080/",
     "height": 51
    },
    "id": "qSBV9glSb3-f",
    "outputId": "01592190-a36a-4366-ed8d-c47ed2826380"
   },
   "outputs": [
    {
     "name": "stdout",
     "output_type": "stream",
     "text": [
      "[0.34]\n",
      "(1,)\n"
     ]
    }
   ],
   "source": [
    "y_train = np.array(y_true) # Создадим numpy-массив значений, к которым должна стремиться модель (в нашем случае одно значение)\n",
    "print(y_train) # Выведем сформированный массив\n",
    "print(y_train.shape) # Выведем размерность сформированного массива"
   ]
  },
  {
   "cell_type": "code",
   "execution_count": 40,
   "metadata": {
    "colab": {
     "base_uri": "https://localhost:8080/",
     "height": 34
    },
    "id": "2j4NIT8EIzus",
    "outputId": "a10ae140-ebaa-4915-cbc7-eb1224d7d024"
   },
   "outputs": [
    {
     "data": {
      "text/plain": [
       "(1, 2)"
      ]
     },
     "execution_count": 40,
     "metadata": {},
     "output_type": "execute_result"
    }
   ],
   "source": [
    "x_train.shape"
   ]
  },
  {
   "cell_type": "code",
   "execution_count": 41,
   "metadata": {
    "colab": {
     "base_uri": "https://localhost:8080/",
     "height": 34
    },
    "id": "qd_-9zjrs4Z4",
    "outputId": "266a393d-78f3-4e69-f6c7-c505a0130987"
   },
   "outputs": [
    {
     "data": {
      "text/plain": [
       "array([[ 7.2, -5.8]])"
      ]
     },
     "execution_count": 41,
     "metadata": {},
     "output_type": "execute_result"
    }
   ],
   "source": [
    "x_train"
   ]
  },
  {
   "cell_type": "code",
   "execution_count": 42,
   "metadata": {
    "id": "GqtLfYO3gkd4"
   },
   "outputs": [],
   "source": [
    "# Создадим модель, аналогичную ранее созданной с relu-активацией\n",
    "model_test = Sequential() # Создаем пустую модель нейронной сети\n",
    "model_test.add(Dense(2, input_dim = 2, activation='linear', use_bias=False)) # Добавляем полносвязный слой с 2мя нейронами (указываем, что на вход принимаем вектор из двух элементв), функция активация - relu,  и отключаем использование нейрона смещения\n",
    "model_test.add(Dense(1, activation='relu', use_bias=False)) # Добавляем полносвязный слой с 1 нейроном (выходной слой нашей модели), здесь уже не требуется указывать размерность входных данных, функция активация - relu, и также отключаем использование нейрона смещения\n",
    "model_test.set_weights(new_weight) # Установим посчитанные выше веса"
   ]
  },
  {
   "cell_type": "code",
   "execution_count": 43,
   "metadata": {
    "id": "z_2rXuzlcoZu"
   },
   "outputs": [],
   "source": [
    "#model_test.compile(optimizer='adam', loss='mse', metrics=['mae']) # Компилируем нашу модель, указав используемый оптимайзер, функцию ошибки и метрику\n",
    "model_test.compile(optimizer=Adam(0.001), loss='mse') # Альтернативный способ указания оптимизатора"
   ]
  },
  {
   "cell_type": "code",
   "execution_count": 44,
   "metadata": {
    "colab": {
     "base_uri": "https://localhost:8080/",
     "height": 221
    },
    "id": "24hP5EaOJEUg",
    "outputId": "a3fc6f78-6aac-4275-96e5-5f35b478315a"
   },
   "outputs": [
    {
     "data": {
      "text/html": [
       "<pre style=\"white-space:pre;overflow-x:auto;line-height:normal;font-family:Menlo,'DejaVu Sans Mono',consolas,'Courier New',monospace\"><span style=\"font-weight: bold\">Model: \"sequential_4\"</span>\n",
       "</pre>\n"
      ],
      "text/plain": [
       "\u001b[1mModel: \"sequential_4\"\u001b[0m\n"
      ]
     },
     "metadata": {},
     "output_type": "display_data"
    },
    {
     "data": {
      "text/html": [
       "<pre style=\"white-space:pre;overflow-x:auto;line-height:normal;font-family:Menlo,'DejaVu Sans Mono',consolas,'Courier New',monospace\">┏━━━━━━━━━━━━━━━━━━━━━━━━━━━━━━━━━━━━━━┳━━━━━━━━━━━━━━━━━━━━━━━━━━━━━┳━━━━━━━━━━━━━━━━━┓\n",
       "┃<span style=\"font-weight: bold\"> Layer (type)                         </span>┃<span style=\"font-weight: bold\"> Output Shape                </span>┃<span style=\"font-weight: bold\">         Param # </span>┃\n",
       "┡━━━━━━━━━━━━━━━━━━━━━━━━━━━━━━━━━━━━━━╇━━━━━━━━━━━━━━━━━━━━━━━━━━━━━╇━━━━━━━━━━━━━━━━━┩\n",
       "│ dense_7 (<span style=\"color: #0087ff; text-decoration-color: #0087ff\">Dense</span>)                      │ (<span style=\"color: #00d7ff; text-decoration-color: #00d7ff\">None</span>, <span style=\"color: #00af00; text-decoration-color: #00af00\">2</span>)                   │               <span style=\"color: #00af00; text-decoration-color: #00af00\">4</span> │\n",
       "├──────────────────────────────────────┼─────────────────────────────┼─────────────────┤\n",
       "│ dense_8 (<span style=\"color: #0087ff; text-decoration-color: #0087ff\">Dense</span>)                      │ (<span style=\"color: #00d7ff; text-decoration-color: #00d7ff\">None</span>, <span style=\"color: #00af00; text-decoration-color: #00af00\">1</span>)                   │               <span style=\"color: #00af00; text-decoration-color: #00af00\">2</span> │\n",
       "└──────────────────────────────────────┴─────────────────────────────┴─────────────────┘\n",
       "</pre>\n"
      ],
      "text/plain": [
       "┏━━━━━━━━━━━━━━━━━━━━━━━━━━━━━━━━━━━━━━┳━━━━━━━━━━━━━━━━━━━━━━━━━━━━━┳━━━━━━━━━━━━━━━━━┓\n",
       "┃\u001b[1m \u001b[0m\u001b[1mLayer (type)                        \u001b[0m\u001b[1m \u001b[0m┃\u001b[1m \u001b[0m\u001b[1mOutput Shape               \u001b[0m\u001b[1m \u001b[0m┃\u001b[1m \u001b[0m\u001b[1m        Param #\u001b[0m\u001b[1m \u001b[0m┃\n",
       "┡━━━━━━━━━━━━━━━━━━━━━━━━━━━━━━━━━━━━━━╇━━━━━━━━━━━━━━━━━━━━━━━━━━━━━╇━━━━━━━━━━━━━━━━━┩\n",
       "│ dense_7 (\u001b[38;5;33mDense\u001b[0m)                      │ (\u001b[38;5;45mNone\u001b[0m, \u001b[38;5;34m2\u001b[0m)                   │               \u001b[38;5;34m4\u001b[0m │\n",
       "├──────────────────────────────────────┼─────────────────────────────┼─────────────────┤\n",
       "│ dense_8 (\u001b[38;5;33mDense\u001b[0m)                      │ (\u001b[38;5;45mNone\u001b[0m, \u001b[38;5;34m1\u001b[0m)                   │               \u001b[38;5;34m2\u001b[0m │\n",
       "└──────────────────────────────────────┴─────────────────────────────┴─────────────────┘\n"
      ]
     },
     "metadata": {},
     "output_type": "display_data"
    },
    {
     "data": {
      "text/html": [
       "<pre style=\"white-space:pre;overflow-x:auto;line-height:normal;font-family:Menlo,'DejaVu Sans Mono',consolas,'Courier New',monospace\"><span style=\"font-weight: bold\"> Total params: </span><span style=\"color: #00af00; text-decoration-color: #00af00\">6</span> (24.00 B)\n",
       "</pre>\n"
      ],
      "text/plain": [
       "\u001b[1m Total params: \u001b[0m\u001b[38;5;34m6\u001b[0m (24.00 B)\n"
      ]
     },
     "metadata": {},
     "output_type": "display_data"
    },
    {
     "data": {
      "text/html": [
       "<pre style=\"white-space:pre;overflow-x:auto;line-height:normal;font-family:Menlo,'DejaVu Sans Mono',consolas,'Courier New',monospace\"><span style=\"font-weight: bold\"> Trainable params: </span><span style=\"color: #00af00; text-decoration-color: #00af00\">6</span> (24.00 B)\n",
       "</pre>\n"
      ],
      "text/plain": [
       "\u001b[1m Trainable params: \u001b[0m\u001b[38;5;34m6\u001b[0m (24.00 B)\n"
      ]
     },
     "metadata": {},
     "output_type": "display_data"
    },
    {
     "data": {
      "text/html": [
       "<pre style=\"white-space:pre;overflow-x:auto;line-height:normal;font-family:Menlo,'DejaVu Sans Mono',consolas,'Courier New',monospace\"><span style=\"font-weight: bold\"> Non-trainable params: </span><span style=\"color: #00af00; text-decoration-color: #00af00\">0</span> (0.00 B)\n",
       "</pre>\n"
      ],
      "text/plain": [
       "\u001b[1m Non-trainable params: \u001b[0m\u001b[38;5;34m0\u001b[0m (0.00 B)\n"
      ]
     },
     "metadata": {},
     "output_type": "display_data"
    }
   ],
   "source": [
    "model_test.summary()"
   ]
  },
  {
   "cell_type": "code",
   "execution_count": 45,
   "metadata": {
    "id": "sRzTt3U5czH_"
   },
   "outputs": [],
   "source": [
    "l = model_test.train_on_batch(x_train, y_train) # Обучаем модель на одном наборе данных методом train_on_batch. Метод вернет ошибку и метрику"
   ]
  },
  {
   "cell_type": "code",
   "execution_count": 46,
   "metadata": {
    "colab": {
     "base_uri": "https://localhost:8080/",
     "height": 34
    },
    "id": "nx9xryureeac",
    "outputId": "407826b8-3df0-4af3-8bcd-f59e309b1025"
   },
   "outputs": [
    {
     "name": "stdout",
     "output_type": "stream",
     "text": [
      "2.2090874\n"
     ]
    }
   ],
   "source": [
    "print(l) # Отобразим ошибку после обучения"
   ]
  },
  {
   "cell_type": "code",
   "execution_count": 47,
   "metadata": {
    "colab": {
     "base_uri": "https://localhost:8080/",
     "height": 68
    },
    "id": "XR85tGcchYVs",
    "outputId": "be1b150d-fdea-4cae-ab25-ee57e54667cb"
   },
   "outputs": [
    {
     "name": "stdout",
     "output_type": "stream",
     "text": [
      "[array([[ 0.42, -0.56],\n",
      "       [ 0.15,  0.83]]), array([[0.93],\n",
      "       [0.02]])]\n"
     ]
    }
   ],
   "source": [
    "print(new_weight) # Выведем веса, которые были назначены модели в самом начале"
   ]
  },
  {
   "cell_type": "code",
   "execution_count": 48,
   "metadata": {
    "colab": {
     "base_uri": "https://localhost:8080/",
     "height": 68
    },
    "id": "XGfnoPnu7Tl2",
    "outputId": "b2b6b2ba-14cd-4bf5-cc0e-4af74e0818ab"
   },
   "outputs": [
    {
     "name": "stdout",
     "output_type": "stream",
     "text": [
      "[array([[ 0.419, -0.561],\n",
      "       [ 0.151,  0.831]], dtype=float32), array([[0.929     ],\n",
      "       [0.02099999]], dtype=float32)]\n"
     ]
    }
   ],
   "source": [
    "print(model_test.get_weights()) # Выведем измененные веса после одного шага обучения"
   ]
  },
  {
   "cell_type": "code",
   "execution_count": 49,
   "metadata": {
    "colab": {
     "base_uri": "https://localhost:8080/",
     "height": 34
    },
    "id": "QZ4O6CnX7bEm",
    "outputId": "f770a87b-cd97-484e-fe1c-9a07b4f25f46"
   },
   "outputs": [
    {
     "name": "stdout",
     "output_type": "stream",
     "text": [
      "WARNING:tensorflow:5 out of the last 5 calls to <function TensorFlowTrainer.make_train_function.<locals>.one_step_on_iterator at 0x000001BD97C998A0> triggered tf.function retracing. Tracing is expensive and the excessive number of tracings could be due to (1) creating @tf.function repeatedly in a loop, (2) passing tensors with different shapes, (3) passing Python objects instead of tensors. For (1), please define your @tf.function outside of the loop. For (2), @tf.function has reduce_retracing=True option that can avoid unnecessary retracing. For (3), please refer to https://www.tensorflow.org/guide/function#controlling_retracing and https://www.tensorflow.org/api_docs/python/tf/function for  more details.\n",
      "WARNING:tensorflow:6 out of the last 6 calls to <function TensorFlowTrainer.make_train_function.<locals>.one_step_on_iterator at 0x000001BD97C998A0> triggered tf.function retracing. Tracing is expensive and the excessive number of tracings could be due to (1) creating @tf.function repeatedly in a loop, (2) passing tensors with different shapes, (3) passing Python objects instead of tensors. For (1), please define your @tf.function outside of the loop. For (2), @tf.function has reduce_retracing=True option that can avoid unnecessary retracing. For (3), please refer to https://www.tensorflow.org/guide/function#controlling_retracing and https://www.tensorflow.org/api_docs/python/tf/function for  more details.\n",
      "Ошибка (mse) после 1000 шагов 0.052612994\n"
     ]
    }
   ],
   "source": [
    "for i in range(1000): # Пройдемся в цикле 1000 раз\n",
    "  loss = model_test.train_on_batch(x_train, y_train) # Выполним на каждом шаге обучение нашей модели\n",
    "print('Ошибка (mse) после 1000 шагов', loss)"
   ]
  },
  {
   "cell_type": "code",
   "execution_count": 50,
   "metadata": {
    "colab": {
     "base_uri": "https://localhost:8080/",
     "height": 88
    },
    "id": "9CYx77E776SW",
    "outputId": "47a39215-de2b-493e-a51f-40a47f4c09bf"
   },
   "outputs": [
    {
     "name": "stdout",
     "output_type": "stream",
     "text": [
      "WARNING:tensorflow:5 out of the last 5 calls to <function TensorFlowTrainer.make_predict_function.<locals>.one_step_on_data_distributed at 0x000001BDDFB607C0> triggered tf.function retracing. Tracing is expensive and the excessive number of tracings could be due to (1) creating @tf.function repeatedly in a loop, (2) passing tensors with different shapes, (3) passing Python objects instead of tensors. For (1), please define your @tf.function outside of the loop. For (2), @tf.function has reduce_retracing=True option that can avoid unnecessary retracing. For (3), please refer to https://www.tensorflow.org/guide/function#controlling_retracing and https://www.tensorflow.org/api_docs/python/tf/function for  more details.\n",
      "\u001b[1m1/1\u001b[0m \u001b[32m━━━━━━━━━━━━━━━━━━━━\u001b[0m\u001b[37m\u001b[0m \u001b[1m0s\u001b[0m 72ms/step\n",
      "Требуемое значение: 0.34\n",
      "Значение модели: 0.3399994\n"
     ]
    }
   ],
   "source": [
    "y_pred = model_test.predict(x_train) # Получаем результат нашей модели\n",
    "print('Требуемое значение:', y_real)\n",
    "print('Значение модели:', y_pred[0][0])"
   ]
  },
  {
   "cell_type": "code",
   "execution_count": 51,
   "metadata": {
    "colab": {
     "base_uri": "https://localhost:8080/",
     "height": 85
    },
    "id": "H0K40p5e8yWG",
    "outputId": "a913a9ec-cf4d-446f-e890-7eacfca8b424"
   },
   "outputs": [
    {
     "name": "stdout",
     "output_type": "stream",
     "text": [
      "Веса модели \n",
      " [array([[ 0.35807633, -0.64385563],\n",
      "       [ 0.21192366,  0.9138556 ]], dtype=float32), array([[0.8729114 ],\n",
      "       [0.08429358]], dtype=float32)]\n"
     ]
    }
   ],
   "source": [
    "print('Веса модели \\n', model_test.get_weights())"
   ]
  },
  {
   "cell_type": "markdown",
   "metadata": {
    "id": "n3UgLD14-l72"
   },
   "source": [
    "# Демонстрация градиентного спуска"
   ]
  },
  {
   "cell_type": "code",
   "execution_count": 52,
   "metadata": {
    "id": "6afPVVK-UZvR"
   },
   "outputs": [],
   "source": [
    "def makeData2(model, x_train, y_train): # Функция возвращает сетку координат весов и массив ошибки, соответствующей этой сетке\n",
    "    x = np.arange(-1.5, 1.5, 0.05) # Создаем массив шагов по шкале x\n",
    "    y = np.arange(-1.5, 1.5, 0.05) # Создаем массив шагов по шкале y\n",
    "    xgrid, ygrid = np.meshgrid(x, y) # Создаем пересечение всех возможных точек пространства  xy\n",
    "\n",
    "    zgrid = np.zeros_like(xgrid) # Сздаем массив zgrid (в нем будет храниться значение ошибки)\n",
    "    for i in range (x.shape[0]): # Проходим по всем шагам по оси x\n",
    "      z_add = np.zeros(x.shape[0]) # Создаем массив из нулей, в который будем добавлять значения ошибки\n",
    "      for j in range(y.shape[0]): # Проходим по всем шагам по оси y\n",
    "        model_d.set_weights([np.array([[x[i]],[y[j]]])]) # Устанавливаем веса для модели в соответствии с текущими шагами по осям x и y\n",
    "        loss = model_d.train_on_batch(x_train, y_train) # Обучаем модель на установленных весах и получаем значение ошибки\n",
    "        z_add[j] = loss # Записываем полученное значение ошибки в соответствующее место массива z_add\n",
    "      zgrid[i] = z_add # Записываем сформированный массив z_add в общий массив, хранящий значение ошибки\n",
    "    return xgrid, ygrid, zgrid # Возвращаем шаги по осям x и y (xgrid, ygrid) и массив, содержащий значение ошибки (zgrid)"
   ]
  },
  {
   "cell_type": "code",
   "execution_count": 53,
   "metadata": {
    "id": "2GChy4ib-vh9"
   },
   "outputs": [],
   "source": [
    "model_d = Sequential() # Создаем класс модели\n",
    "model_d.add(Dense(1, input_dim=2, activation='linear', use_bias=False)) # Добавляем один Dense-слой с линейной активацией и отключенным bias'ом\n",
    "model_d.compile(optimizer=Adam(0.001), loss='mse') # Компилируем модель, указав оптимайзер и ошибку"
   ]
  },
  {
   "cell_type": "code",
   "execution_count": 54,
   "metadata": {
    "colab": {
     "base_uri": "https://localhost:8080/",
     "height": 51
    },
    "id": "iri8Mva5XTP8",
    "outputId": "58b676bd-4046-48fc-f9a4-34382c39bd6c"
   },
   "outputs": [
    {
     "name": "stdout",
     "output_type": "stream",
     "text": [
      "Стартовые веса модели:  [array([[ 0.6541356],\n",
      "       [-0.8035013]], dtype=float32)]\n"
     ]
    }
   ],
   "source": [
    "start_weights = model_d.get_weights() # Запомним стартовое значение весов модели в переменной start_weights\n",
    "print ('Стартовые веса модели: ', start_weights) # Отобразим стартовые веса модели"
   ]
  },
  {
   "cell_type": "code",
   "execution_count": 55,
   "metadata": {
    "id": "RKeJ2jRo2vcl"
   },
   "outputs": [],
   "source": [
    "start_weights = [np.array([[-1.2], [1.1]])] # Зададим свои стартовые веса модели\n",
    "model_d.set_weights(start_weights) # Установим модели указанные веса"
   ]
  },
  {
   "cell_type": "code",
   "execution_count": 56,
   "metadata": {
    "id": "ImLVzsCtze2G"
   },
   "outputs": [],
   "source": [
    "x_train = np.array([[1,0],[0,1]]) # Зададим x_train\n",
    "y_train = np.array([1,-1]) # Зададим y_train"
   ]
  },
  {
   "cell_type": "code",
   "execution_count": null,
   "metadata": {},
   "outputs": [],
   "source": []
  },
  {
   "cell_type": "code",
   "execution_count": null,
   "metadata": {
    "colab": {
     "base_uri": "https://localhost:8080/",
     "height": 751
    },
    "id": "LfZ7_AxgJyMb",
    "outputId": "05a5050b-3288-4431-fff9-f6e35c6129c9"
   },
   "outputs": [],
   "source": [
    "x, y, z = makeData2(model_d, x_train, y_train) # Вызываем функцию получения сетки весов и значений ошибки в этих весах\n",
    "model_d.set_weights(start_weights) # Устанвливаем модели стартовое значение весов\n",
    "l = model_d.train_on_batch(x_train, y_train) # Получим значение ошибки при стартовых весах\n",
    "fig = pylab.figure(figsize=(10,10)) # Создаем объект pylab.figure для построения графиков\n",
    "axes = Axes3D(fig) # Создаем объект Axes3D для построения трехмерного графика\n",
    "axes.plot_surface(x, y, z, rstride=1, cstride=1, alpha = 0.2) # Рисуем поверхность по параметрам x (веса w1), y (веса w2), z (значения ошибок)\n",
    "axes.scatter(start_weights[0][1], start_weights[0][0], l, s=30, color='red') # Рисуем стартовое значение ошибки (l) при стартовых весах\n",
    "pylab.show() # Отображаем график"
   ]
  },
  {
   "cell_type": "code",
   "execution_count": null,
   "metadata": {
    "colab": {
     "base_uri": "https://localhost:8080/",
     "height": 34
    },
    "id": "0joVPshffo8f",
    "outputId": "b000c410-c3cb-4fb9-e7d3-94a44c1aa0fa"
   },
   "outputs": [],
   "source": [
    "save_weights = [] # Создаем пустой список, в котором будем сохранять веса модели после каждого шага обучения\n",
    "losses = [] # Создаем пустой список, в котором будем сохранять значение ошибки после каждого шага обучения\n",
    "for i in range(4000): # Проходим в цикле 4000 раз\n",
    "  save_weights.append(model_d.get_weights()[0]) # Добавляем в список весов текущее значение весов модели\n",
    "  l = model_d.train_on_batch(x_train, y_train) # Обучаем модель методом train_on_batch и получаем значение ошибки\n",
    "  losses.append(l) # Добавляем полученное значение ошибки в список ошибок\n",
    "print(l) # Выведем ошибку после последнего шага обучения"
   ]
  },
  {
   "cell_type": "code",
   "execution_count": null,
   "metadata": {
    "colab": {
     "base_uri": "https://localhost:8080/",
     "height": 51
    },
    "id": "sGll50hcp2J1",
    "outputId": "85ee9dcf-355a-4618-ebf2-01926ed875d3"
   },
   "outputs": [],
   "source": [
    "save_weights = np.array(save_weights) # Преобразуем список save_weights в numpy-массив\n",
    "save_weights = save_weights.reshape(-1,2) # Изменим размерность сформированного массива\n",
    "print(save_weights[-1]) # Отобразим последнее значение в массиве (соответствует текущим весам модели)\n",
    "print(losses[-1]) # Отобразим последнее значение в списке ошибок"
   ]
  },
  {
   "cell_type": "code",
   "execution_count": null,
   "metadata": {
    "colab": {
     "base_uri": "https://localhost:8080/",
     "height": 751
    },
    "id": "50-whMBlmt1E",
    "outputId": "2cce52df-0381-4ce0-dbe5-a971dd82e4b1"
   },
   "outputs": [],
   "source": [
    "fig = pylab.figure(figsize=(10,10)) # Создаем объект pylab.figure для построения графиков\n",
    "axes = Axes3D(fig) # Создаем объект Axes3D для построения трехмерного графика\n",
    "axes.plot_surface(x, y, z, rstride=1, cstride=1, alpha = 0.2) # Рисуем поверхность по параметрам x (веса w1), y (веса w2), z (значения ошибок)\n",
    "axes.scatter(save_weights[0,1], save_weights[0,0], losses[0], s=30, color='red') # Рисуем стартовое значение ошибки (losses[0])\n",
    "axes.scatter(save_weights[:,1], save_weights[:,0], losses[:], s=1, color='green') # Рисуем все значения ошибок\n",
    "axes.scatter(save_weights[-1,1], save_weights[-1,0], losses[-1], s=30, color='black') # Рисуем финальное значение ошибки (losses[-1])\n",
    "pylab.show()"
   ]
  },
  {
   "cell_type": "markdown",
   "metadata": {
    "id": "Pa2_uq889QCz",
    "jp-MarkdownHeadingCollapsed": true
   },
   "source": [
    "# Глоссарий"
   ]
  },
  {
   "cell_type": "markdown",
   "metadata": {
    "id": "uGF-KxJX9Uyx"
   },
   "source": [
    "**Функции активации**\n",
    "\n",
    "https://keras.io/activations/ - документация\n",
    "\n",
    "https://ru-keras.com/activation-function/ - русскоязычная документация\n",
    "\n",
    "*   sigmoid - на выходе значения от 0 до 1\n",
    "*   relu - на выходе значения от 0 до +∞\n",
    "*   tanh - на выходе значения от -1 до +1\n",
    "*   softmax - сумма значения выходов всех нейронов равна 1\n",
    "\n",
    "**Функции ошибок**\n",
    "\n",
    "https://keras.io/losses/ - документация\n",
    "\n",
    "https://ru-keras.com/loss/ - русскоязычная документация\n",
    "\n",
    "\n",
    "*   mse - среднеквадратичное отклонение\n",
    "*   mae - среднее абсолютное значение\n",
    "*   binary_crossentropy - бинарная кроссэнтропия\n",
    "*   categorical_crossentropy - категориальная кроссэнтропия\n",
    "\n",
    "**Оптимизаторы**\n",
    "\n",
    "https://keras.io/optimizers/ - документация\n",
    "\n",
    "https://ru-keras.com/optimizer/ - русскоязычная документация\n",
    "\n",
    "\n",
    "\n",
    "*   Adam\n",
    "*   RMSProp\n",
    "*   Adadelta\n",
    "\n",
    "**Градиентный спуск** - процесс поиска минимума функции ошибки\n",
    "\n",
    "**MNIST** - набор изображений рукописных цифр 28х28 пикселей\n",
    "\n",
    "**Способы обучения сети:**\n",
    "\n",
    "*   .train_on_batch - один шаг обучения на фиксированном наборе данных\n",
    "*   .fit - итерационное обучение сети с возможностью указания количества итераций (epochs) и размера пакета с обучающими данными (batch_size)\n",
    "\n",
    "**Загрузка изображения**\n",
    "\n",
    "image.load_img(path, target_size=(28, 28), color_mode = ‘grayscale’)\n",
    "\n",
    "\n",
    "\n"
   ]
  }
 ],
 "metadata": {
  "accelerator": "GPU",
  "colab": {
   "collapsed_sections": [
    "jjqH_JaURnnK",
    "c4pg0HUQCdFk",
    "MMkWv4VhC2ti",
    "iD7hR5hXNLUe",
    "rrWmNM6jKBrc",
    "rstrtRs2O1so",
    "5BUXluCMWpMB",
    "dntk9WK6TbA-",
    "6tP0Iq2NX9qK",
    "c3-PovDMb2TU",
    "n3UgLD14-l72",
    "Pa2_uq889QCz"
   ],
   "provenance": []
  },
  "kernelspec": {
   "display_name": "Python 3 (ipykernel)",
   "language": "python",
   "name": "python3"
  },
  "language_info": {
   "codemirror_mode": {
    "name": "ipython",
    "version": 3
   },
   "file_extension": ".py",
   "mimetype": "text/x-python",
   "name": "python",
   "nbconvert_exporter": "python",
   "pygments_lexer": "ipython3",
   "version": "3.12.4"
  }
 },
 "nbformat": 4,
 "nbformat_minor": 4
}
