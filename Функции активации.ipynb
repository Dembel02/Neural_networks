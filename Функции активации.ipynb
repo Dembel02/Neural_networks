{
 "cells": [
  {
   "cell_type": "markdown",
   "id": "dbdaef0f-e2e3-42ad-a6bb-9b332cdc6079",
   "metadata": {},
   "source": [
    "## Функции активации"
   ]
  },
  {
   "cell_type": "code",
   "execution_count": 1,
   "id": "7879ad5a-d3f4-404e-b54a-de55dde8fc46",
   "metadata": {},
   "outputs": [],
   "source": [
    "import numpy as np # \n",
    "from tensorflow.keras.models import Sequential # Подключаем класс модели Sequential\n",
    "from tensorflow.keras.layers import Dense # Подключаем полносвязанные нейроны Dense\n",
    "from tensorflow.keras.optimizers import Adam # Подключаем оптимизатор Adam"
   ]
  },
  {
   "cell_type": "code",
   "execution_count": 2,
   "id": "b36b444b-23e5-4d70-b723-14069c7d2f07",
   "metadata": {},
   "outputs": [
    {
     "data": {
      "text/plain": [
       "(1, 2)"
      ]
     },
     "execution_count": 2,
     "metadata": {},
     "output_type": "execute_result"
    }
   ],
   "source": [
    "x1 = 7.2 # Установим значение x1\n",
    "x2 = -5.8 # Установим значение x2\n",
    "x_train = np.expand_dims(np.array([x1, x2]), 0) # Создадим набор данных для последующего обучения нейронной сети\n",
    "x_train.shape"
   ]
  },
  {
   "cell_type": "code",
   "execution_count": 3,
   "id": "63b6f972-8052-4812-8552-0ea61d0c10e6",
   "metadata": {},
   "outputs": [
    {
     "name": "stdout",
     "output_type": "stream",
     "text": [
      "[array([[ 0.42, -0.56],\n",
      "       [ 0.15,  0.83]]), array([[0.93],\n",
      "       [0.02]])]\n"
     ]
    }
   ],
   "source": [
    "w1 = 0.42 # Зададим коэф. w1 вручную\n",
    "w2 = 0.15 # Зададим коэф. w2 вручную\n",
    "w3 = -0.56 # Зададим коэф. w3 вручную\n",
    "w4 = 0.83 # Зададим коэф. w4 вручную\n",
    "w5 = 0.93 # Зададим коэф. w5 вручную\n",
    "w6 = 0.02 # Зададим коэф. w6 вручную\n",
    "new_weight = [np.array([[w1,w3],[w2,w4]]), np.array([[w5],[w6]])] # Сформируем список весов\n",
    "print(new_weight) # Отобразим сформированный список весов"
   ]
  },
  {
   "cell_type": "markdown",
   "id": "83124bd8-8e7d-480c-ad04-e93165cae166",
   "metadata": {
    "jp-MarkdownHeadingCollapsed": true
   },
   "source": [
    "## sigmoid (сигмоид)\n",
    "\n",
    "![alt text](https://wikimedia.org/api/rest_v1/media/math/render/svg/36f792c44c0a7069ad01386452569d6e34fe95d7) ![alt text](https://upload.wikimedia.org/wikipedia/commons/thumb/5/5b/Activation_logistic.svg/120px-Activation_logistic.svg.png)"
   ]
  },
  {
   "cell_type": "code",
   "execution_count": 3,
   "id": "a4be5e22-d35c-4ada-84db-7d802579ebce",
   "metadata": {},
   "outputs": [],
   "source": [
    "def sigmoid(x): # Создадим фукцию для расчета сигмоиды\n",
    "    return 1/(1+np.e ** (-x))"
   ]
  },
  {
   "cell_type": "code",
   "execution_count": 8,
   "id": "40c70492-4c62-4d7b-b580-e2686198b695",
   "metadata": {},
   "outputs": [
    {
     "data": {
      "text/html": [
       "<pre style=\"white-space:pre;overflow-x:auto;line-height:normal;font-family:Menlo,'DejaVu Sans Mono',consolas,'Courier New',monospace\"><span style=\"font-weight: bold\">Model: \"sequential_2\"</span>\n",
       "</pre>\n"
      ],
      "text/plain": [
       "\u001b[1mModel: \"sequential_2\"\u001b[0m\n"
      ]
     },
     "metadata": {},
     "output_type": "display_data"
    },
    {
     "data": {
      "text/html": [
       "<pre style=\"white-space:pre;overflow-x:auto;line-height:normal;font-family:Menlo,'DejaVu Sans Mono',consolas,'Courier New',monospace\">┏━━━━━━━━━━━━━━━━━━━━━━━━━━━━━━━━━━━━━━┳━━━━━━━━━━━━━━━━━━━━━━━━━━━━━┳━━━━━━━━━━━━━━━━━┓\n",
       "┃<span style=\"font-weight: bold\"> Layer (type)                         </span>┃<span style=\"font-weight: bold\"> Output Shape                </span>┃<span style=\"font-weight: bold\">         Param # </span>┃\n",
       "┡━━━━━━━━━━━━━━━━━━━━━━━━━━━━━━━━━━━━━━╇━━━━━━━━━━━━━━━━━━━━━━━━━━━━━╇━━━━━━━━━━━━━━━━━┩\n",
       "│ dense_6 (<span style=\"color: #0087ff; text-decoration-color: #0087ff\">Dense</span>)                      │ (<span style=\"color: #00d7ff; text-decoration-color: #00d7ff\">None</span>, <span style=\"color: #00af00; text-decoration-color: #00af00\">2</span>)                   │               <span style=\"color: #00af00; text-decoration-color: #00af00\">4</span> │\n",
       "├──────────────────────────────────────┼─────────────────────────────┼─────────────────┤\n",
       "│ dense_7 (<span style=\"color: #0087ff; text-decoration-color: #0087ff\">Dense</span>)                      │ (<span style=\"color: #00d7ff; text-decoration-color: #00d7ff\">None</span>, <span style=\"color: #00af00; text-decoration-color: #00af00\">1</span>)                   │               <span style=\"color: #00af00; text-decoration-color: #00af00\">2</span> │\n",
       "└──────────────────────────────────────┴─────────────────────────────┴─────────────────┘\n",
       "</pre>\n"
      ],
      "text/plain": [
       "┏━━━━━━━━━━━━━━━━━━━━━━━━━━━━━━━━━━━━━━┳━━━━━━━━━━━━━━━━━━━━━━━━━━━━━┳━━━━━━━━━━━━━━━━━┓\n",
       "┃\u001b[1m \u001b[0m\u001b[1mLayer (type)                        \u001b[0m\u001b[1m \u001b[0m┃\u001b[1m \u001b[0m\u001b[1mOutput Shape               \u001b[0m\u001b[1m \u001b[0m┃\u001b[1m \u001b[0m\u001b[1m        Param #\u001b[0m\u001b[1m \u001b[0m┃\n",
       "┡━━━━━━━━━━━━━━━━━━━━━━━━━━━━━━━━━━━━━━╇━━━━━━━━━━━━━━━━━━━━━━━━━━━━━╇━━━━━━━━━━━━━━━━━┩\n",
       "│ dense_6 (\u001b[38;5;33mDense\u001b[0m)                      │ (\u001b[38;5;45mNone\u001b[0m, \u001b[38;5;34m2\u001b[0m)                   │               \u001b[38;5;34m4\u001b[0m │\n",
       "├──────────────────────────────────────┼─────────────────────────────┼─────────────────┤\n",
       "│ dense_7 (\u001b[38;5;33mDense\u001b[0m)                      │ (\u001b[38;5;45mNone\u001b[0m, \u001b[38;5;34m1\u001b[0m)                   │               \u001b[38;5;34m2\u001b[0m │\n",
       "└──────────────────────────────────────┴─────────────────────────────┴─────────────────┘\n"
      ]
     },
     "metadata": {},
     "output_type": "display_data"
    },
    {
     "data": {
      "text/html": [
       "<pre style=\"white-space:pre;overflow-x:auto;line-height:normal;font-family:Menlo,'DejaVu Sans Mono',consolas,'Courier New',monospace\"><span style=\"font-weight: bold\"> Total params: </span><span style=\"color: #00af00; text-decoration-color: #00af00\">6</span> (24.00 B)\n",
       "</pre>\n"
      ],
      "text/plain": [
       "\u001b[1m Total params: \u001b[0m\u001b[38;5;34m6\u001b[0m (24.00 B)\n"
      ]
     },
     "metadata": {},
     "output_type": "display_data"
    },
    {
     "data": {
      "text/html": [
       "<pre style=\"white-space:pre;overflow-x:auto;line-height:normal;font-family:Menlo,'DejaVu Sans Mono',consolas,'Courier New',monospace\"><span style=\"font-weight: bold\"> Trainable params: </span><span style=\"color: #00af00; text-decoration-color: #00af00\">6</span> (24.00 B)\n",
       "</pre>\n"
      ],
      "text/plain": [
       "\u001b[1m Trainable params: \u001b[0m\u001b[38;5;34m6\u001b[0m (24.00 B)\n"
      ]
     },
     "metadata": {},
     "output_type": "display_data"
    },
    {
     "data": {
      "text/html": [
       "<pre style=\"white-space:pre;overflow-x:auto;line-height:normal;font-family:Menlo,'DejaVu Sans Mono',consolas,'Courier New',monospace\"><span style=\"font-weight: bold\"> Non-trainable params: </span><span style=\"color: #00af00; text-decoration-color: #00af00\">0</span> (0.00 B)\n",
       "</pre>\n"
      ],
      "text/plain": [
       "\u001b[1m Non-trainable params: \u001b[0m\u001b[38;5;34m0\u001b[0m (0.00 B)\n"
      ]
     },
     "metadata": {},
     "output_type": "display_data"
    }
   ],
   "source": [
    "# Создадим нейронную сеть с функцией активации сигмоид\n",
    "model_sigmoid = Sequential() # Создадим ящик для нейронов\n",
    "model_sigmoid.add(Dense(2, input_dim = 2, activation = 'sigmoid', use_bias = False)) # Добавляем полносвязный слой с 2мя нейронами (указываем что на вход\n",
    "# принимаем вектор из 2х елементов) активационная функция сигмоида, и отключаем функцию нейрона смещения\n",
    "model_sigmoid.add(Dense(1, activation = 'sigmoid', use_bias = False)) # Добавляем полносвязный слой с 1 нейроном (выходной слойb нашей модели),\n",
    "# здесь уже не требуется указывать размерность входных данных, функция активации сигмоид, и отключаем функцию смещения нейрона\n",
    "model_sigmoid.summary() # Отобразим структуру созданной сети \n",
    "model_sigmoid.set_weights(new_weight) # Установим посчитанные ранее веса"
   ]
  },
  {
   "cell_type": "code",
   "execution_count": 11,
   "id": "3f395c54-e955-4b92-85a2-0116e30a36c5",
   "metadata": {},
   "outputs": [
    {
     "name": "stdout",
     "output_type": "stream",
     "text": [
      "\u001b[1m1/1\u001b[0m \u001b[32m━━━━━━━━━━━━━━━━━━━━\u001b[0m\u001b[37m\u001b[0m \u001b[1m0s\u001b[0m 282ms/step\n",
      "[[0.6970569]]\n"
     ]
    }
   ],
   "source": [
    "# Выполним те же самые шаги что и в прошлый раз\n",
    "y_sigmoid = model_sigmoid.predict(x_train) # получим значение выхода сети, передав на выход вектор из 2 элементов  [x1, x2]\n",
    "print(y_sigmoid) # выведем результат работы сети"
   ]
  },
  {
   "cell_type": "markdown",
   "id": "1671351c-a3b2-4fc6-bc41-59e92c5251e4",
   "metadata": {},
   "source": [
    "*Посчитаем значение выхода сети вручную*"
   ]
  },
  {
   "cell_type": "code",
   "execution_count": 12,
   "id": "7dbc13b2-f511-4207-932a-e64f853d1c01",
   "metadata": {},
   "outputs": [
    {
     "name": "stdout",
     "output_type": "stream",
     "text": [
      "0.8960419706149801\n",
      "0.00014393569134056814\n"
     ]
    }
   ],
   "source": [
    "H1_sigmoid = sigmoid(x1 * w1 + x2 * w2) # Получим значение скрыого нейрона H1\n",
    "H2_sigmoid = sigmoid(x1 * w3 + x2 * w4) # Получим значение скрыого нейрона H2\n",
    "print(H1_sigmoid) # Выведем значение нейрона H1\n",
    "print(H2_sigmoid) # Выведем значение нейрона H2"
   ]
  },
  {
   "cell_type": "code",
   "execution_count": 13,
   "id": "04c62a74-b205-489d-b1dc-c55277ee0494",
   "metadata": {},
   "outputs": [
    {
     "name": "stdout",
     "output_type": "stream",
     "text": [
      "0.6970568720142808\n"
     ]
    }
   ],
   "source": [
    "Y_sigmoid = sigmoid(H1_sigmoid * w5 + H2_sigmoid * w6) # Считаем выход сети\n",
    "print(Y_sigmoid) # Выведем зачение выхода сети посчитанного вручную"
   ]
  },
  {
   "cell_type": "code",
   "execution_count": 14,
   "id": "60c0e087-d4d9-4b24-864b-d71c085c64f6",
   "metadata": {},
   "outputs": [
    {
     "name": "stdout",
     "output_type": "stream",
     "text": [
      "Значение предикта модели 0.697057\n",
      "Значение посчитанное вручую 0.697057\n"
     ]
    }
   ],
   "source": [
    "# Выведем сравнение модели посчитанного вручную, и предсказания модели\n",
    "print('Значение предикта модели', round(y_sigmoid[0][0],6))\n",
    "print('Значение посчитанное вручую', round(Y_sigmoid, 6))"
   ]
  },
  {
   "cell_type": "markdown",
   "id": "12c23e96-c7d2-4e44-a981-1277097ef2a6",
   "metadata": {
    "jp-MarkdownHeadingCollapsed": true
   },
   "source": [
    "## relu (линейный выпрямитель)\n",
    "\n",
    "![alt text](https://wikimedia.org/api/rest_v1/media/math/render/svg/f4353f4e3e484130504049599d2e7b040793e1eb) ![alt text](https://upload.wikimedia.org/wikipedia/commons/thumb/f/fe/Activation_rectified_linear.svg/120px-Activation_rectified_linear.svg.png)"
   ]
  },
  {
   "cell_type": "code",
   "execution_count": 15,
   "id": "05e3f187-dff9-4d22-9296-f23558a56b0c",
   "metadata": {},
   "outputs": [],
   "source": [
    "def relu(x): # Зададим функцию расчета relu\n",
    "    return np.clip(x, 0, np.inf)"
   ]
  },
  {
   "cell_type": "code",
   "execution_count": 16,
   "id": "0da54d93-5c88-4bf9-b44d-b6034a104a5c",
   "metadata": {},
   "outputs": [
    {
     "data": {
      "text/html": [
       "<pre style=\"white-space:pre;overflow-x:auto;line-height:normal;font-family:Menlo,'DejaVu Sans Mono',consolas,'Courier New',monospace\"><span style=\"font-weight: bold\">Model: \"sequential_3\"</span>\n",
       "</pre>\n"
      ],
      "text/plain": [
       "\u001b[1mModel: \"sequential_3\"\u001b[0m\n"
      ]
     },
     "metadata": {},
     "output_type": "display_data"
    },
    {
     "data": {
      "text/html": [
       "<pre style=\"white-space:pre;overflow-x:auto;line-height:normal;font-family:Menlo,'DejaVu Sans Mono',consolas,'Courier New',monospace\">┏━━━━━━━━━━━━━━━━━━━━━━━━━━━━━━━━━━━━━━┳━━━━━━━━━━━━━━━━━━━━━━━━━━━━━┳━━━━━━━━━━━━━━━━━┓\n",
       "┃<span style=\"font-weight: bold\"> Layer (type)                         </span>┃<span style=\"font-weight: bold\"> Output Shape                </span>┃<span style=\"font-weight: bold\">         Param # </span>┃\n",
       "┡━━━━━━━━━━━━━━━━━━━━━━━━━━━━━━━━━━━━━━╇━━━━━━━━━━━━━━━━━━━━━━━━━━━━━╇━━━━━━━━━━━━━━━━━┩\n",
       "│ dense_8 (<span style=\"color: #0087ff; text-decoration-color: #0087ff\">Dense</span>)                      │ (<span style=\"color: #00d7ff; text-decoration-color: #00d7ff\">None</span>, <span style=\"color: #00af00; text-decoration-color: #00af00\">2</span>)                   │               <span style=\"color: #00af00; text-decoration-color: #00af00\">4</span> │\n",
       "├──────────────────────────────────────┼─────────────────────────────┼─────────────────┤\n",
       "│ dense_9 (<span style=\"color: #0087ff; text-decoration-color: #0087ff\">Dense</span>)                      │ (<span style=\"color: #00d7ff; text-decoration-color: #00d7ff\">None</span>, <span style=\"color: #00af00; text-decoration-color: #00af00\">1</span>)                   │               <span style=\"color: #00af00; text-decoration-color: #00af00\">2</span> │\n",
       "└──────────────────────────────────────┴─────────────────────────────┴─────────────────┘\n",
       "</pre>\n"
      ],
      "text/plain": [
       "┏━━━━━━━━━━━━━━━━━━━━━━━━━━━━━━━━━━━━━━┳━━━━━━━━━━━━━━━━━━━━━━━━━━━━━┳━━━━━━━━━━━━━━━━━┓\n",
       "┃\u001b[1m \u001b[0m\u001b[1mLayer (type)                        \u001b[0m\u001b[1m \u001b[0m┃\u001b[1m \u001b[0m\u001b[1mOutput Shape               \u001b[0m\u001b[1m \u001b[0m┃\u001b[1m \u001b[0m\u001b[1m        Param #\u001b[0m\u001b[1m \u001b[0m┃\n",
       "┡━━━━━━━━━━━━━━━━━━━━━━━━━━━━━━━━━━━━━━╇━━━━━━━━━━━━━━━━━━━━━━━━━━━━━╇━━━━━━━━━━━━━━━━━┩\n",
       "│ dense_8 (\u001b[38;5;33mDense\u001b[0m)                      │ (\u001b[38;5;45mNone\u001b[0m, \u001b[38;5;34m2\u001b[0m)                   │               \u001b[38;5;34m4\u001b[0m │\n",
       "├──────────────────────────────────────┼─────────────────────────────┼─────────────────┤\n",
       "│ dense_9 (\u001b[38;5;33mDense\u001b[0m)                      │ (\u001b[38;5;45mNone\u001b[0m, \u001b[38;5;34m1\u001b[0m)                   │               \u001b[38;5;34m2\u001b[0m │\n",
       "└──────────────────────────────────────┴─────────────────────────────┴─────────────────┘\n"
      ]
     },
     "metadata": {},
     "output_type": "display_data"
    },
    {
     "data": {
      "text/html": [
       "<pre style=\"white-space:pre;overflow-x:auto;line-height:normal;font-family:Menlo,'DejaVu Sans Mono',consolas,'Courier New',monospace\"><span style=\"font-weight: bold\"> Total params: </span><span style=\"color: #00af00; text-decoration-color: #00af00\">6</span> (24.00 B)\n",
       "</pre>\n"
      ],
      "text/plain": [
       "\u001b[1m Total params: \u001b[0m\u001b[38;5;34m6\u001b[0m (24.00 B)\n"
      ]
     },
     "metadata": {},
     "output_type": "display_data"
    },
    {
     "data": {
      "text/html": [
       "<pre style=\"white-space:pre;overflow-x:auto;line-height:normal;font-family:Menlo,'DejaVu Sans Mono',consolas,'Courier New',monospace\"><span style=\"font-weight: bold\"> Trainable params: </span><span style=\"color: #00af00; text-decoration-color: #00af00\">6</span> (24.00 B)\n",
       "</pre>\n"
      ],
      "text/plain": [
       "\u001b[1m Trainable params: \u001b[0m\u001b[38;5;34m6\u001b[0m (24.00 B)\n"
      ]
     },
     "metadata": {},
     "output_type": "display_data"
    },
    {
     "data": {
      "text/html": [
       "<pre style=\"white-space:pre;overflow-x:auto;line-height:normal;font-family:Menlo,'DejaVu Sans Mono',consolas,'Courier New',monospace\"><span style=\"font-weight: bold\"> Non-trainable params: </span><span style=\"color: #00af00; text-decoration-color: #00af00\">0</span> (0.00 B)\n",
       "</pre>\n"
      ],
      "text/plain": [
       "\u001b[1m Non-trainable params: \u001b[0m\u001b[38;5;34m0\u001b[0m (0.00 B)\n"
      ]
     },
     "metadata": {},
     "output_type": "display_data"
    }
   ],
   "source": [
    "# Пересоздадим нейронную сеть, указав в качестве функции активации relu\n",
    "model_relu = Sequential() # Создаем пустую модель нейронной сети\n",
    "model_relu.add(Dense(2, input_dim = 2, activation = 'relu', use_bias=False)) #  Добавлем полносвязный слой  2мя нейронами (указываем, что на вход принимаем вектор из двух элементов), функция активации - relu, и отключаем использование нейрона смещения\n",
    "model_relu.add(Dense(1, activation = 'relu', use_bias=False)) # Добавляем полносвязный слой с 1 нейроном (выходной слой нашего предыдущего слоя модели), здесь уже не требуется указывать размерность входного слоя данных, функция активации relu, и отключам нейрон смещения\n",
    "model_relu.summary() # Отобразим структуру созданной нейронной сети (должна совпадать с прошлой моделью)\n",
    "model_relu.set_weights(new_weight) # Установим заданные ранее веса"
   ]
  },
  {
   "cell_type": "code",
   "execution_count": 19,
   "id": "8442e053-e756-47cc-bb3e-0afd3a039925",
   "metadata": {},
   "outputs": [
    {
     "name": "stdout",
     "output_type": "stream",
     "text": [
      "\u001b[1m1/1\u001b[0m \u001b[32m━━━━━━━━━━━━━━━━━━━━\u001b[0m\u001b[37m\u001b[0m \u001b[1m0s\u001b[0m 47ms/step\n",
      "2.0032198\n"
     ]
    }
   ],
   "source": [
    "# Получим предсказание модели\n",
    "y_relu = model_relu.predict(x_train) # Полуим значение выхода сети, передав на вход вектор из двух элементов [x1, x2]\n",
    "print(y_relu[0][0])"
   ]
  },
  {
   "cell_type": "markdown",
   "id": "fa5f568f-1dae-4700-8da9-05f5c1b4aba8",
   "metadata": {},
   "source": [
    "**Посчитаем значение выхода сети вручную**"
   ]
  },
  {
   "cell_type": "code",
   "execution_count": 20,
   "id": "372de275-a266-4b91-a20e-5651045f614f",
   "metadata": {},
   "outputs": [
    {
     "name": "stdout",
     "output_type": "stream",
     "text": [
      "2.154\n",
      "0.0\n"
     ]
    }
   ],
   "source": [
    "H1_relu = relu(x1 * w1 + x2 * w2) # Получим зачение скрытого нейрона H1\n",
    "H2_relu = relu(x1 * w3 + x2 * w4) # Получим зачение скрытого нейрона H2\n",
    "print(H1_relu) # Выведем значение нейрона H1\n",
    "print(H2_relu) # Выведем значение нейрона H2"
   ]
  },
  {
   "cell_type": "code",
   "execution_count": 21,
   "id": "6e9a2794-614b-445f-954a-7d9f00f418bf",
   "metadata": {},
   "outputs": [
    {
     "name": "stdout",
     "output_type": "stream",
     "text": [
      "2.0032200000000002\n"
     ]
    }
   ],
   "source": [
    "Y_relu = relu(H1_relu * w5 + H2_relu * w6) # Считаем выход сети\n",
    "print(Y_relu) # Отобразим результат ручного подсчета с активационной функцией relu"
   ]
  },
  {
   "cell_type": "code",
   "execution_count": 22,
   "id": "d6680386-8d82-4a6c-bb28-9369296dc1ac",
   "metadata": {},
   "outputs": [
    {
     "name": "stdout",
     "output_type": "stream",
     "text": [
      "Значение предикта модели 2.00322\n",
      "Значение посчитанное вручую 2.00322\n"
     ]
    }
   ],
   "source": [
    "# Выведем сравнение модели посчитанного вручную, и предсказания модели\n",
    "print('Значение предикта модели', round(y_relu[0][0],6))\n",
    "print('Значение посчитанное вручую', round(Y_relu, 6))"
   ]
  },
  {
   "cell_type": "markdown",
   "id": "cb6e1cd7-0348-43a9-81e6-8ae1062b3d57",
   "metadata": {},
   "source": [
    "## tanh (гиперболический тангенс)\n",
    "\n",
    "\n",
    "![alt text](https://wikimedia.org/api/rest_v1/media/math/render/svg/5fd13a1c501e64926c12d52b620f1e656251fc15) ![alt text](https://upload.wikimedia.org/wikipedia/commons/thumb/c/cb/Activation_tanh.svg/120px-Activation_tanh.svg.png)"
   ]
  },
  {
   "cell_type": "code",
   "execution_count": 4,
   "id": "77ef5ace-a358-4aad-af9a-6af54f7c618e",
   "metadata": {},
   "outputs": [],
   "source": [
    "def th(x): # Зададим функцию расчета гиперболического тангенса\n",
    "    return (np.e ** x - np.e ** (-x)) / (np.e **x + np.e ** (-x))"
   ]
  },
  {
   "cell_type": "code",
   "execution_count": 5,
   "id": "b0d1f44b-a849-4305-92f7-1a3c9de5709c",
   "metadata": {},
   "outputs": [
    {
     "name": "stderr",
     "output_type": "stream",
     "text": [
      "C:\\Projects\\env\\Lib\\site-packages\\keras\\src\\layers\\core\\dense.py:87: UserWarning: Do not pass an `input_shape`/`input_dim` argument to a layer. When using Sequential models, prefer using an `Input(shape)` object as the first layer in the model instead.\n",
      "  super().__init__(activity_regularizer=activity_regularizer, **kwargs)\n"
     ]
    },
    {
     "data": {
      "text/html": [
       "<pre style=\"white-space:pre;overflow-x:auto;line-height:normal;font-family:Menlo,'DejaVu Sans Mono',consolas,'Courier New',monospace\"><span style=\"font-weight: bold\">Model: \"sequential\"</span>\n",
       "</pre>\n"
      ],
      "text/plain": [
       "\u001b[1mModel: \"sequential\"\u001b[0m\n"
      ]
     },
     "metadata": {},
     "output_type": "display_data"
    },
    {
     "data": {
      "text/html": [
       "<pre style=\"white-space:pre;overflow-x:auto;line-height:normal;font-family:Menlo,'DejaVu Sans Mono',consolas,'Courier New',monospace\">┏━━━━━━━━━━━━━━━━━━━━━━━━━━━━━━━━━━━━━━┳━━━━━━━━━━━━━━━━━━━━━━━━━━━━━┳━━━━━━━━━━━━━━━━━┓\n",
       "┃<span style=\"font-weight: bold\"> Layer (type)                         </span>┃<span style=\"font-weight: bold\"> Output Shape                </span>┃<span style=\"font-weight: bold\">         Param # </span>┃\n",
       "┡━━━━━━━━━━━━━━━━━━━━━━━━━━━━━━━━━━━━━━╇━━━━━━━━━━━━━━━━━━━━━━━━━━━━━╇━━━━━━━━━━━━━━━━━┩\n",
       "│ dense (<span style=\"color: #0087ff; text-decoration-color: #0087ff\">Dense</span>)                        │ (<span style=\"color: #00d7ff; text-decoration-color: #00d7ff\">None</span>, <span style=\"color: #00af00; text-decoration-color: #00af00\">2</span>)                   │               <span style=\"color: #00af00; text-decoration-color: #00af00\">4</span> │\n",
       "├──────────────────────────────────────┼─────────────────────────────┼─────────────────┤\n",
       "│ dense_1 (<span style=\"color: #0087ff; text-decoration-color: #0087ff\">Dense</span>)                      │ (<span style=\"color: #00d7ff; text-decoration-color: #00d7ff\">None</span>, <span style=\"color: #00af00; text-decoration-color: #00af00\">1</span>)                   │               <span style=\"color: #00af00; text-decoration-color: #00af00\">2</span> │\n",
       "└──────────────────────────────────────┴─────────────────────────────┴─────────────────┘\n",
       "</pre>\n"
      ],
      "text/plain": [
       "┏━━━━━━━━━━━━━━━━━━━━━━━━━━━━━━━━━━━━━━┳━━━━━━━━━━━━━━━━━━━━━━━━━━━━━┳━━━━━━━━━━━━━━━━━┓\n",
       "┃\u001b[1m \u001b[0m\u001b[1mLayer (type)                        \u001b[0m\u001b[1m \u001b[0m┃\u001b[1m \u001b[0m\u001b[1mOutput Shape               \u001b[0m\u001b[1m \u001b[0m┃\u001b[1m \u001b[0m\u001b[1m        Param #\u001b[0m\u001b[1m \u001b[0m┃\n",
       "┡━━━━━━━━━━━━━━━━━━━━━━━━━━━━━━━━━━━━━━╇━━━━━━━━━━━━━━━━━━━━━━━━━━━━━╇━━━━━━━━━━━━━━━━━┩\n",
       "│ dense (\u001b[38;5;33mDense\u001b[0m)                        │ (\u001b[38;5;45mNone\u001b[0m, \u001b[38;5;34m2\u001b[0m)                   │               \u001b[38;5;34m4\u001b[0m │\n",
       "├──────────────────────────────────────┼─────────────────────────────┼─────────────────┤\n",
       "│ dense_1 (\u001b[38;5;33mDense\u001b[0m)                      │ (\u001b[38;5;45mNone\u001b[0m, \u001b[38;5;34m1\u001b[0m)                   │               \u001b[38;5;34m2\u001b[0m │\n",
       "└──────────────────────────────────────┴─────────────────────────────┴─────────────────┘\n"
      ]
     },
     "metadata": {},
     "output_type": "display_data"
    },
    {
     "data": {
      "text/html": [
       "<pre style=\"white-space:pre;overflow-x:auto;line-height:normal;font-family:Menlo,'DejaVu Sans Mono',consolas,'Courier New',monospace\"><span style=\"font-weight: bold\"> Total params: </span><span style=\"color: #00af00; text-decoration-color: #00af00\">6</span> (24.00 B)\n",
       "</pre>\n"
      ],
      "text/plain": [
       "\u001b[1m Total params: \u001b[0m\u001b[38;5;34m6\u001b[0m (24.00 B)\n"
      ]
     },
     "metadata": {},
     "output_type": "display_data"
    },
    {
     "data": {
      "text/html": [
       "<pre style=\"white-space:pre;overflow-x:auto;line-height:normal;font-family:Menlo,'DejaVu Sans Mono',consolas,'Courier New',monospace\"><span style=\"font-weight: bold\"> Trainable params: </span><span style=\"color: #00af00; text-decoration-color: #00af00\">6</span> (24.00 B)\n",
       "</pre>\n"
      ],
      "text/plain": [
       "\u001b[1m Trainable params: \u001b[0m\u001b[38;5;34m6\u001b[0m (24.00 B)\n"
      ]
     },
     "metadata": {},
     "output_type": "display_data"
    },
    {
     "data": {
      "text/html": [
       "<pre style=\"white-space:pre;overflow-x:auto;line-height:normal;font-family:Menlo,'DejaVu Sans Mono',consolas,'Courier New',monospace\"><span style=\"font-weight: bold\"> Non-trainable params: </span><span style=\"color: #00af00; text-decoration-color: #00af00\">0</span> (0.00 B)\n",
       "</pre>\n"
      ],
      "text/plain": [
       "\u001b[1m Non-trainable params: \u001b[0m\u001b[38;5;34m0\u001b[0m (0.00 B)\n"
      ]
     },
     "metadata": {},
     "output_type": "display_data"
    }
   ],
   "source": [
    "# Пересоздадим нейронную сеть, указав в качестве функции активации - tanh\n",
    "model_th = Sequential() # Создаем пустую модель нейроной сети\n",
    "model_th.add(Dense(2, input_dim = 2, activation = 'tanh', use_bias = False)) # Добавляем полносвязный слой с 2мя нейронами (указываем, что на вход принимаем вектор из двух елементов), фукция активации - tanh, использование нейрона смещения отключаем\n",
    "model_th.add(Dense(1, activation = 'tanh', use_bias = False)) # Добавляем полносвязный слой с 1м нейроном (входные данные с нашего предидущего слоя) активационая функция 'tanh' и отключаем нейрон смещения\n",
    "model_th.summary() # Отображаем структуру созданной сети (должна совпадать с предидущими моделями)\n",
    "model_th.set_weights(new_weight) # Установим заданные ранее выше веса"
   ]
  },
  {
   "cell_type": "code",
   "execution_count": 6,
   "id": "2a4018a0-3933-49bd-9482-8c0bab74cb64",
   "metadata": {},
   "outputs": [
    {
     "name": "stdout",
     "output_type": "stream",
     "text": [
      "\u001b[1m1/1\u001b[0m \u001b[32m━━━━━━━━━━━━━━━━━━━━\u001b[0m\u001b[37m\u001b[0m \u001b[1m0s\u001b[0m 162ms/step\n",
      "[[0.70906264]]\n"
     ]
    }
   ],
   "source": [
    "# Выполним предсказание модели\n",
    "y_th = model_th.predict(x_train) # Получаем значение выхода сети передав на вход вектор из двух элементов [x1, x2]\n",
    "print(y_th) # Выведем результат предикта нейронки"
   ]
  },
  {
   "cell_type": "code",
   "execution_count": 7,
   "id": "ed054a26-812d-41f6-86b6-989085051432",
   "metadata": {},
   "outputs": [
    {
     "name": "stdout",
     "output_type": "stream",
     "text": [
      "0.9734366670870239\n",
      "-0.9999999585531038\n"
     ]
    }
   ],
   "source": [
    "H1_th = th(x1 * w1 + x2 * w2) # Получим значение скрытого нейрона H1\n",
    "H2_th = th(x1 * w3 + x2 * w4) # Получим значение скрытого нейрона H2\n",
    "print(H1_th) # Выводим значение нейрона H1\n",
    "print(H2_th) # Выводим значение нейрона H2"
   ]
  },
  {
   "cell_type": "code",
   "execution_count": 8,
   "id": "5c6e238a-8eee-4482-a8d5-849645e39e5e",
   "metadata": {},
   "outputs": [
    {
     "name": "stdout",
     "output_type": "stream",
     "text": [
      "0.709062603515898\n"
     ]
    }
   ],
   "source": [
    "Y_th = th(H1_th * w5 + H2_th * w6) # Считаем выход сети\n",
    "print(Y_th) # Выведем на экран значение посчитанное вручную"
   ]
  },
  {
   "cell_type": "code",
   "execution_count": 9,
   "id": "0dfb5105-96c4-4410-bf77-bbc2ed05ddc9",
   "metadata": {},
   "outputs": [
    {
     "name": "stdout",
     "output_type": "stream",
     "text": [
      "значение полученное пердиктом модели 0.709063\n",
      "значение посчитанное вручную 0.709063\n"
     ]
    }
   ],
   "source": [
    "print('значение полученное пердиктом модели', round(y_th[0][0], 6))\n",
    "print('значение посчитанное вручную', round(Y_th, 6))"
   ]
  }
 ],
 "metadata": {
  "kernelspec": {
   "display_name": "Python 3 (ipykernel)",
   "language": "python",
   "name": "python3"
  },
  "language_info": {
   "codemirror_mode": {
    "name": "ipython",
    "version": 3
   },
   "file_extension": ".py",
   "mimetype": "text/x-python",
   "name": "python",
   "nbconvert_exporter": "python",
   "pygments_lexer": "ipython3",
   "version": "3.12.4"
  }
 },
 "nbformat": 4,
 "nbformat_minor": 5
}
