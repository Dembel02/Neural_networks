{
  "nbformat": 4,
  "nbformat_minor": 0,
  "metadata": {
    "colab": {
      "provenance": []
    },
    "kernelspec": {
      "name": "python3",
      "display_name": "Python 3"
    }
  },
  "cells": [
    {
      "cell_type": "markdown",
      "metadata": {
        "id": "Wpoby3FyZvJL"
      },
      "source": [
        "# Синтаксис Python. Домашнее Задание. Ultra-Light\n",
        "\n",
        "*2 балла за каждую задачу*\n",
        "\n",
        "*1 бонусный балл, если все задачи покрыты комментариями, которые описывают тактику решение задачи (до 10 баллов)*"
      ]
    },
    {
      "cell_type": "markdown",
      "metadata": {
        "id": "I4LCUCBjJrQO"
      },
      "source": [
        "### Задача 1\n",
        "\n",
        "*(2 балла)*\n",
        "\n",
        "Создайте переменную **name** и сохраните в нее своё имя."
      ]
    },
    {
      "cell_type": "markdown",
      "metadata": {
        "id": "HBwG_W-hJrQP"
      },
      "source": [
        "**Решение:**"
      ]
    },
    {
      "cell_type": "code",
      "metadata": {
        "id": "GSR9Oe_dJrQQ"
      },
      "source": [
        "name = 'Ildus'"
      ],
      "execution_count": null,
      "outputs": []
    },
    {
      "cell_type": "markdown",
      "metadata": {
        "id": "bW_kKRKthdn7"
      },
      "source": [
        "### Задача 2\n",
        "\n",
        "*(2 балла)*\n",
        "\n",
        "С помощью функции print выведите строку \"5 котиков + 6 котиков = 11 котиков\". Передайте в скобки функции print() строку **\"5 котиков + 6 котиков = 11 котиков\"**."
      ]
    },
    {
      "cell_type": "markdown",
      "metadata": {
        "id": "_anmPG8lqDql"
      },
      "source": [
        "**Решение:**"
      ]
    },
    {
      "cell_type": "code",
      "metadata": {
        "id": "eHA_26PRqDqm"
      },
      "source": [],
      "execution_count": null,
      "outputs": []
    },
    {
      "cell_type": "markdown",
      "metadata": {
        "id": "i1BkaDrYjqs2"
      },
      "source": [
        "### Задача 3\n",
        "\n",
        "*(2 балла)*\n",
        "\n",
        "С помощью функции input считайте с входящей строки два целых числа."
      ]
    },
    {
      "cell_type": "markdown",
      "metadata": {
        "id": "nZENDhW4qCeY"
      },
      "source": [
        "**Решение:**"
      ]
    },
    {
      "cell_type": "code",
      "metadata": {
        "id": "jaa0zML8qCeZ"
      },
      "source": [],
      "execution_count": null,
      "outputs": []
    },
    {
      "cell_type": "markdown",
      "metadata": {
        "id": "PguJdnEqhdoI"
      },
      "source": [
        "### Задача 4\n",
        "\n",
        "*(2 балла)*\n",
        "\n",
        "Дан ряд целых чисел от 0 до 30 включительно. Используя цикл for, выведите на экран весь ряд.\n",
        "\n",
        "Результатом работы программы должен быть вывод в ячейке:\n",
        "\n",
        "**0**\n",
        "\n",
        "**1**\n",
        "\n",
        "**2**\n",
        "\n",
        "**3**\n",
        "\n",
        "**4**\n",
        "\n",
        "... и т. д.\n"
      ]
    },
    {
      "cell_type": "markdown",
      "metadata": {
        "id": "B_Y8tfCrqBtD"
      },
      "source": [
        "**Решение:**"
      ]
    },
    {
      "cell_type": "code",
      "metadata": {
        "id": "1gO0KhkLqBtE"
      },
      "source": [],
      "execution_count": null,
      "outputs": []
    },
    {
      "cell_type": "markdown",
      "metadata": {
        "id": "XpKAlxuSpPn4"
      },
      "source": [
        "### Задача 5\n",
        "\n",
        "*(2 балла)*\n",
        "\n",
        "Дан следующий список:"
      ]
    },
    {
      "cell_type": "code",
      "metadata": {
        "id": "dQXhUpBRpOJ6"
      },
      "source": [
        "my_list = [0, 1, 1, 2, 3, 5, 8, 13, 21, 34, 55, 89, 144, 233, 377]"
      ],
      "execution_count": null,
      "outputs": []
    },
    {
      "cell_type": "markdown",
      "metadata": {
        "id": "FpkVJLHCpS1P"
      },
      "source": [
        "Используя цикл for, выведите все значения списка.\n",
        "\n",
        "Результатом работы программы должен быть вывод в ячейке:\n",
        "\n",
        "**0**\n",
        "\n",
        "**1**\n",
        "\n",
        "**1**\n",
        "\n",
        "**2**\n",
        "\n",
        "**3**\n",
        "\n",
        "... и т.д."
      ]
    },
    {
      "cell_type": "markdown",
      "metadata": {
        "id": "i8gitPRap7SC"
      },
      "source": [
        "**Решение:**"
      ]
    },
    {
      "cell_type": "code",
      "metadata": {
        "id": "9Bq6zfOgp8m_"
      },
      "source": [],
      "execution_count": null,
      "outputs": []
    }
  ]
}